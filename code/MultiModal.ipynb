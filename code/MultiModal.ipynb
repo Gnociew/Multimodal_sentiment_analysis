{
 "cells": [
  {
   "cell_type": "markdown",
   "metadata": {},
   "source": [
    "载入实验需要的 python 包："
   ]
  },
  {
   "cell_type": "code",
   "execution_count": 1,
   "metadata": {},
   "outputs": [],
   "source": [
    "import os\n",
    "from PIL import Image\n",
    "import pandas as pd\n",
    "import numpy as np\n",
    "import math\n",
    "import matplotlib.pyplot as plt\n",
    "import re\n",
    "\n",
    "from nltk.corpus import stopwords\n",
    "import string\n",
    "from transformers import BertModel,BertTokenizer\n",
    "\n",
    "import torch\n",
    "import torch.nn as nn\n",
    "import torch.nn.functional as F\n",
    "import torch.optim as optim\n",
    "from torch.nn.utils import clip_grad_norm_\n",
    "from torch.utils.data import Dataset, DataLoader, SubsetRandomSampler\n",
    "from torch.utils.data.dataset import random_split\n",
    "\n",
    "from sklearn.model_selection import KFold\n",
    "from sklearn.preprocessing import LabelEncoder\n",
    "\n",
    "from transformers import ViTModel\n",
    "\n",
    "from torchvision import transforms\n",
    "from torchvision.ops import sigmoid_focal_loss\n",
    "\n",
    "from tqdm import tqdm"
   ]
  },
  {
   "cell_type": "markdown",
   "metadata": {},
   "source": [
    "设置种子："
   ]
  },
  {
   "cell_type": "code",
   "execution_count": 2,
   "metadata": {},
   "outputs": [],
   "source": [
    "seed = 622"
   ]
  },
  {
   "cell_type": "markdown",
   "metadata": {},
   "source": [
    "## 数据预处理"
   ]
  },
  {
   "cell_type": "markdown",
   "metadata": {},
   "source": [
    "#### 读取数据"
   ]
  },
  {
   "cell_type": "code",
   "execution_count": 3,
   "metadata": {},
   "outputs": [],
   "source": [
    "def load_data(data_dir, train_file):\n",
    "    # 存储训练集数据和标签\n",
    "    dataset = []\n",
    "    \n",
    "    # 读取 train.txt 文件\n",
    "    train_path = os.path.join(data_dir, train_file)\n",
    "    with open(train_path, 'r') as f:\n",
    "        lines = f.readlines()\n",
    "        for line in lines:\n",
    "            guide, tag = line.strip().split(',')\n",
    "            \n",
    "            # 构造文件路径\n",
    "            img_path = os.path.join(data_dir, \"data\", f\"{guide}.jpg\")\n",
    "            txt_path = os.path.join(data_dir, \"data\",f\"{guide}.txt\")\n",
    "            \n",
    "            # 加载图片和文本数据\n",
    "            if os.path.exists(img_path) and os.path.exists(txt_path):\n",
    "                # 读取图片\n",
    "                img = Image.open(img_path).convert('RGB')\n",
    "                # 读取文本\n",
    "                with open(txt_path, 'r' ,encoding='utf-8', errors='replace') as txt_file:\n",
    "                    text = txt_file.read()\n",
    "                # 添加到数据集\n",
    "                dataset.append({\n",
    "                    'guide': guide,\n",
    "                    'image': img,\n",
    "                    'text': text,\n",
    "                    'tag': tag\n",
    "                })\n",
    "    return dataset"
   ]
  },
  {
   "cell_type": "code",
   "execution_count": 4,
   "metadata": {},
   "outputs": [
    {
     "name": "stdout",
     "output_type": "stream",
     "text": [
      "  guide                                              image  \\\n",
      "0  4597  <PIL.Image.Image image mode=RGB size=598x303 a...   \n",
      "1    26  <PIL.Image.Image image mode=RGB size=600x450 a...   \n",
      "2  4383  <PIL.Image.Image image mode=RGB size=599x337 a...   \n",
      "3   212  <PIL.Image.Image image mode=RGB size=600x923 a...   \n",
      "4  2626  <PIL.Image.Image image mode=RGB size=600x800 a...   \n",
      "\n",
      "                                                text       tag  \n",
      "0  RT @AmitSwami77: The conspirators have an evil...  negative  \n",
      "1  Waxwing trills, Chickadees calling \"here sweet...   neutral  \n",
      "2  @NYSE is looking a little despondent today...?...  negative  \n",
      "3  FERVENT | S,M,L | 140k free PLASTIC CLIP, keyc...  positive  \n",
      "4  Nice day chilling in the park yesterday reliev...  positive  \n"
     ]
    }
   ],
   "source": [
    "data_dir = \"Data\"\n",
    "train_file = \"train.txt\"\n",
    "dataset = load_data(data_dir, train_file)\n",
    "\n",
    "df = pd.DataFrame(dataset)\n",
    "print(df.head())"
   ]
  },
  {
   "cell_type": "markdown",
   "metadata": {},
   "source": [
    "#### 清洗数据"
   ]
  },
  {
   "cell_type": "code",
   "execution_count": 5,
   "metadata": {},
   "outputs": [],
   "source": [
    "def clean_text(text):\n",
    "    text = re.sub(r\"http\\S+|www\\S+|https\\S+\", '', text, flags=re.MULTILINE) # 去除URL\n",
    "    text = re.sub(r'@\\w+', '', text)    # 去除@用户\n",
    "    text = re.sub(r'\\bRT\\b', '', text)  # 去除RT转发标记\n",
    "    text = re.sub(r'[^\\w\\s]', '', text) # 去除特殊字符和表情符号\n",
    "    text = text.strip()                 # 去除多余空格\n",
    "    return text"
   ]
  },
  {
   "cell_type": "code",
   "execution_count": 6,
   "metadata": {},
   "outputs": [],
   "source": [
    "tokenizer = BertTokenizer.from_pretrained('bert-base-uncased', cache_dir='./bert_model/')\n",
    "stop_words = set(stopwords.words('english'))    # 英语停用词列表\n",
    "punctuation_table = str.maketrans('', '', string.punctuation)   # 翻译表，将所有标点符号替换为空字符\n",
    "\n",
    "def preprocess_text_for_w2v(text):\n",
    "    clean_text(text)\n",
    "    if not isinstance(text, str):\n",
    "        return []\n",
    "    text = text.lower().translate(punctuation_table)\n",
    "    tokens = tokenizer.tokenize(text)  \n",
    "    return [token for token in tokens if token.isalpha() and token not in stop_words] "
   ]
  },
  {
   "cell_type": "code",
   "execution_count": 7,
   "metadata": {},
   "outputs": [],
   "source": [
    "df['tokens'] = df['text'].apply(preprocess_text_for_w2v)"
   ]
  },
  {
   "cell_type": "markdown",
   "metadata": {},
   "source": [
    "#### 查看数据分布"
   ]
  },
  {
   "cell_type": "code",
   "execution_count": 8,
   "metadata": {},
   "outputs": [
    {
     "name": "stdout",
     "output_type": "stream",
     "text": [
      "最大文本长度: 20\n",
      "文本长度分布:\n",
      "text_length\n",
      "0      12\n",
      "1      55\n",
      "2     113\n",
      "3     142\n",
      "4     213\n",
      "5     298\n",
      "6     314\n",
      "7     352\n",
      "8     384\n",
      "9     398\n",
      "10    441\n",
      "11    366\n",
      "12    315\n",
      "13    253\n",
      "14    160\n",
      "15    110\n",
      "16     40\n",
      "17     17\n",
      "18     11\n",
      "19      3\n",
      "20      3\n",
      "Name: count, dtype: int64\n"
     ]
    }
   ],
   "source": [
    "df['text_length'] = df['tokens'].apply(len)\n",
    "max_length = df['text_length'].max()\n",
    "print(f\"最大文本长度: {max_length}\")\n",
    "print(\"文本长度分布:\")\n",
    "print(df['text_length'].value_counts().sort_index())\n",
    "\n",
    "df.drop(columns=['text_length'], inplace=True)"
   ]
  },
  {
   "cell_type": "code",
   "execution_count": 9,
   "metadata": {},
   "outputs": [
    {
     "name": "stdout",
     "output_type": "stream",
     "text": [
      "tag\n",
      "positive    2388\n",
      "negative    1193\n",
      "neutral      419\n",
      "Name: count, dtype: int64\n"
     ]
    }
   ],
   "source": [
    "tag_distribution = df['tag'].value_counts()\n",
    "print(tag_distribution)"
   ]
  },
  {
   "cell_type": "markdown",
   "metadata": {},
   "source": [
    "#### 标签编码"
   ]
  },
  {
   "cell_type": "code",
   "execution_count": 10,
   "metadata": {},
   "outputs": [
    {
     "name": "stdout",
     "output_type": "stream",
     "text": [
      "        tag  tag_encoded\n",
      "0  negative            0\n",
      "1   neutral            1\n",
      "2  negative            0\n",
      "3  positive            2\n",
      "4  positive            2\n"
     ]
    }
   ],
   "source": [
    "label_encoder = LabelEncoder()\n",
    "\n",
    "# 直接对 DataFrame 的 target 列进行编码\n",
    "df['tag_encoded'] = label_encoder.fit_transform(df['tag'])\n",
    "\n",
    "# 查看结果\n",
    "print(df[['tag', 'tag_encoded']].head())"
   ]
  },
  {
   "cell_type": "markdown",
   "metadata": {},
   "source": [
    "#### Dataset 类"
   ]
  },
  {
   "cell_type": "code",
   "execution_count": 47,
   "metadata": {},
   "outputs": [],
   "source": [
    "transform = transforms.Compose([\n",
    "    transforms.Resize((224, 224)),\n",
    "    transforms.ToTensor(),\n",
    "    transforms.Normalize(mean=[0.485, 0.456, 0.406], std=[0.229, 0.224, 0.225])  # 使用ImageNet的均值和标准差\n",
    "])"
   ]
  },
  {
   "cell_type": "code",
   "execution_count": 48,
   "metadata": {},
   "outputs": [],
   "source": [
    "class SummarizationDataset(Dataset):\n",
    "    def __init__(self, df, image_col='image', text_col='text',target_col='tag', max_len=20, transform=None, tokenizer=None):\n",
    "        self.df = df\n",
    "        self.images = df[image_col].tolist()\n",
    "        self.texts = df[text_col].tolist()\n",
    "        self.labels = df[target_col].tolist()\n",
    "        self.max_len = max_len\n",
    "        \n",
    "        self.transform = transform\n",
    "        self.tokenizer = tokenizer\n",
    "\n",
    "    def __len__(self):\n",
    "        return len(self.df)\n",
    "\n",
    "    def __getitem__(self, idx):\n",
    "        image = self.images[idx]\n",
    "        if self.transform:\n",
    "            image = self.transform(image)\n",
    "        \n",
    "        text_to_tokenize = ' '.join(self.texts[idx])\n",
    "        encoded_inputs = tokenizer(\n",
    "            text_to_tokenize,             \n",
    "            max_length=20,             \n",
    "            padding='max_length',       \n",
    "            truncation=True,            \n",
    "            return_tensors=\"pt\"         \n",
    "        )   \n",
    "\n",
    "        return {\n",
    "            'image': image,\n",
    "            'input_ids': encoded_inputs['input_ids'].squeeze(0),\n",
    "            'attention_mask': encoded_inputs['attention_mask'].squeeze(0),\n",
    "            'label': torch.tensor(self.labels[idx], dtype=torch.float)\n",
    "        }"
   ]
  },
  {
   "cell_type": "code",
   "execution_count": 49,
   "metadata": {},
   "outputs": [],
   "source": [
    "dataset = SummarizationDataset(df, image_col='image', text_col='tokens', target_col='tag_encoded', transform=transform, tokenizer=tokenizer)"
   ]
  },
  {
   "cell_type": "code",
   "execution_count": 14,
   "metadata": {},
   "outputs": [
    {
     "name": "stdout",
     "output_type": "stream",
     "text": [
      "{'image': tensor([[[ 2.2489,  2.2489,  2.2489,  ...,  2.2489,  2.2489,  2.2489],\n",
      "         [ 2.2489,  2.2489,  2.2489,  ...,  2.2489,  2.2489,  2.2489],\n",
      "         [ 2.2489,  2.2489,  2.2489,  ...,  2.2489,  2.2489,  2.2489],\n",
      "         ...,\n",
      "         [-1.6555, -1.6555, -1.6555,  ..., -1.6555, -1.6555, -1.6555],\n",
      "         [-1.6555, -1.6555, -1.6555,  ..., -1.6555, -1.6555, -1.6555],\n",
      "         [-1.6555, -1.6555, -1.6555,  ..., -1.6555, -1.6555, -1.6555]],\n",
      "\n",
      "        [[ 2.4286,  2.4286,  2.4286,  ...,  2.4286,  2.4286,  2.4286],\n",
      "         [ 2.4286,  2.4286,  2.4286,  ...,  2.4286,  2.4286,  2.4286],\n",
      "         [ 2.4286,  2.4286,  2.4286,  ...,  2.4286,  2.4286,  2.4286],\n",
      "         ...,\n",
      "         [-1.5630, -1.5630, -1.5630,  ..., -1.5630, -1.5630, -1.5630],\n",
      "         [-1.5630, -1.5630, -1.5630,  ..., -1.5630, -1.5630, -1.5630],\n",
      "         [-1.5630, -1.5630, -1.5630,  ..., -1.5630, -1.5630, -1.5630]],\n",
      "\n",
      "        [[ 2.6400,  2.6400,  2.6400,  ...,  2.6400,  2.6400,  2.6400],\n",
      "         [ 2.6400,  2.6400,  2.6400,  ...,  2.6400,  2.6400,  2.6400],\n",
      "         [ 2.6400,  2.6400,  2.6400,  ...,  2.6400,  2.6400,  2.6400],\n",
      "         ...,\n",
      "         [-1.3339, -1.3339, -1.3339,  ..., -1.3339, -1.3339, -1.3339],\n",
      "         [-1.3339, -1.3339, -1.3339,  ..., -1.3339, -1.3339, -1.3339],\n",
      "         [-1.3339, -1.3339, -1.3339,  ..., -1.3339, -1.3339, -1.3339]]]), 'input_ids': tensor([  101, 10768, 15488,  2489,  6081, 12528,  3145,  8903,  6293,   102,\n",
      "            0,     0,     0,     0,     0,     0,     0,     0,     0,     0]), 'attention_mask': tensor([1, 1, 1, 1, 1, 1, 1, 1, 1, 1, 0, 0, 0, 0, 0, 0, 0, 0, 0, 0]), 'label': tensor(2.)}\n"
     ]
    }
   ],
   "source": [
    "print(dataset[3])"
   ]
  },
  {
   "cell_type": "markdown",
   "metadata": {},
   "source": [
    "## 模型搭建"
   ]
  },
  {
   "cell_type": "markdown",
   "metadata": {},
   "source": [
    "### ResNet"
   ]
  },
  {
   "cell_type": "code",
   "execution_count": 15,
   "metadata": {},
   "outputs": [],
   "source": [
    "# 残差块\n",
    "class ResNetBlock(nn.Module):\n",
    "    def __init__(self, in_channels, out_channels,dropout_prob=0.5, stride=1, downsample=None):\n",
    "        super(ResNetBlock, self).__init__()     # 调用父类方法\n",
    "\n",
    "        self.residual = nn.Sequential(\n",
    "            nn.Conv2d(in_channels, out_channels, kernel_size=3, stride=stride, padding=1),\n",
    "            nn.BatchNorm2d(out_channels),\n",
    "\n",
    "            nn.ReLU(inplace=True),\n",
    "            nn.Dropout(dropout_prob),\n",
    "\n",
    "            nn.Conv2d(out_channels, out_channels, kernel_size=3, stride=1, padding=1),\n",
    "            nn.BatchNorm2d(out_channels),\n",
    "\n",
    "            nn.Dropout(dropout_prob),\n",
    "        )\n",
    "\n",
    "        self.downsample = downsample\n",
    "        self.relu = nn.ReLU(inplace=True)\n",
    "\n",
    "\n",
    "    def forward(self, x):\n",
    "        identity = x\n",
    "        out = self.residual(x) \n",
    "        if self.downsample:\n",
    "            identity = self.downsample(x)\n",
    "        out += identity\n",
    "        out = self.relu(out) \n",
    "        return out"
   ]
  },
  {
   "cell_type": "code",
   "execution_count": 16,
   "metadata": {},
   "outputs": [],
   "source": [
    "class ResNet(nn.Module):\n",
    "    def __init__(self, block, layers, feature_dim=512, dropout_prob=0.5):\n",
    "        # layers: 列表，每个block的数量\n",
    "        super(ResNet, self).__init__()\n",
    "\n",
    "        self.in_channels = 64\n",
    "\n",
    "        self.initial_layers = nn.Sequential(\n",
    "            nn.Conv2d(3, 64, kernel_size=7, stride=2, padding=3),\n",
    "            nn.BatchNorm2d(64),\n",
    "            nn.ReLU(inplace=True),\n",
    "            nn.MaxPool2d(kernel_size=3, stride=2, padding=1)\n",
    "        )\n",
    "\n",
    "        self.layer1 = self.make_layer(block, 64, layers[0], dropout_prob)\n",
    "        self.layer2 = self.make_layer(block, 128, layers[1], dropout_prob=dropout_prob, stride=2)\n",
    "        self.layer3 = self.make_layer(block, 256, layers[2], dropout_prob=dropout_prob, stride=2)\n",
    "        self.layer4 = self.make_layer(block, 512, layers[3], dropout_prob=dropout_prob, stride=2)\n",
    "\n",
    "        self.final_layers = nn.Sequential(\n",
    "            nn.AdaptiveAvgPool2d((1, 1)),\n",
    "            nn.Flatten(1),\n",
    "            nn.Linear(512, feature_dim)\n",
    "            # nn.Linear(512, num_classes)\n",
    "        )\n",
    "\n",
    "\n",
    "    def make_layer(self, block, out_channels, num_blocks, dropout_prob=0.5, stride=1):\n",
    "        # 下采样\n",
    "        downsample = None\n",
    "        if stride != 1 or self.in_channels != out_channels:\n",
    "            downsample = nn.Sequential(\n",
    "                nn.Conv2d(self.in_channels, out_channels, kernel_size=1, stride=stride),\n",
    "                nn.BatchNorm2d(out_channels)\n",
    "            )\n",
    "\n",
    "        # 构建层，每个层包含多个残差块\n",
    "        layers = []\n",
    "\n",
    "        # 第一个残差块，（也许）需要下采样\n",
    "        layers.append(block(self.in_channels, out_channels, dropout_prob, stride, downsample))\n",
    "        self.in_channels = out_channels\n",
    "        # 后num_blocks-1个残差块\n",
    "        for _ in range(1, num_blocks):\n",
    "            layers.append(block(self.in_channels, out_channels, dropout_prob ))\n",
    "\n",
    "        return nn.Sequential(*layers)\n",
    "\n",
    "    def forward(self, x):\n",
    "        x = self.initial_layers(x)\n",
    "        x = self.layer1(x)\n",
    "        x = self.layer2(x)\n",
    "        x = self.layer3(x)\n",
    "        x = self.layer4(x)\n",
    "        x = self.final_layers(x)\n",
    "        return x\n"
   ]
  },
  {
   "cell_type": "markdown",
   "metadata": {},
   "source": [
    "### Transformer-Encoder"
   ]
  },
  {
   "cell_type": "code",
   "execution_count": 17,
   "metadata": {},
   "outputs": [],
   "source": [
    "class PositionalEncoding(nn.Module):\n",
    "    def __init__(self, d_model, max_len=512):\n",
    "        super(PositionalEncoding, self).__init__()\n",
    "        pe = torch.zeros(max_len, d_model)\n",
    "        position = torch.arange(0, max_len, dtype=torch.float).unsqueeze(1)  # 位置索引数组：[max_len, 1]\n",
    "\n",
    "        # 分母项\n",
    "        div_term = torch.exp(torch.arange(0, d_model, 2).float() * (-math.log(10000.0) / d_model))\n",
    "        # 生成正余弦位置编码\n",
    "        pe[:, 0::2] = torch.sin(position * div_term)  # 偶数使用sin\n",
    "        pe[:, 1::2] = torch.cos(position * div_term)  # 奇数使用cos\n",
    "        pe = pe.unsqueeze(0)  # [1, max_len, d_model]\n",
    "\n",
    "        # 将pe注册为模型的缓冲区，在训练和推理时不会作为参数更新，但可以通过模型保存和加载。\n",
    "        self.register_buffer('pe', pe)\n",
    "    \n",
    "    def forward(self, x):\n",
    "        seq_len = x.size(1) # x: [batch_size, seq_len, d_model]\n",
    "        x = x + self.pe[:, :seq_len, :] # 广播\n",
    "        return x"
   ]
  },
  {
   "cell_type": "code",
   "execution_count": 18,
   "metadata": {},
   "outputs": [],
   "source": [
    "class MultiHeadAttention(nn.Module):\n",
    "    def __init__(self, d_model, nhead, dropout=0.1):\n",
    "        super(MultiHeadAttention, self).__init__()\n",
    "\n",
    "        assert d_model % nhead == 0, \"d_model 必须能被 nhead 整除\"\n",
    "        self.d_model = d_model\n",
    "        self.nhead = nhead\n",
    "        self.d_k = d_model // nhead  # 每个头的维度\n",
    "\n",
    "        # Q, K, V 的投影层，用于将 query, key, value 投影到高维空间\n",
    "        # [batch_size, seq_len, d_model]\n",
    "        self.w_q = nn.Linear(d_model, d_model)\n",
    "        self.w_k = nn.Linear(d_model, d_model)\n",
    "        self.w_v = nn.Linear(d_model, d_model)\n",
    "\n",
    "        # 将多头输出合并后再投影回原始维度\n",
    "        self.fc_out = nn.Linear(d_model, d_model)\n",
    "\n",
    "        self.dropout = nn.Dropout(dropout)\n",
    "\n",
    "    def forward(self, query, key, value, mask=None):\n",
    "  \n",
    "        B, Q_len, _ = query.size()\n",
    "        B, K_len, _ = key.size()\n",
    "        B, V_len, _ = value.size()\n",
    "\n",
    "        # 线性变换\n",
    "        # [batch_size, seq_len, d_model] \n",
    "        Q = self.w_q(query) \n",
    "        K = self.w_k(key)    \n",
    "        V = self.w_v(value)  \n",
    "\n",
    "        # 拆分多头\n",
    "        Q = Q.view(B, Q_len, self.nhead, self.d_k).transpose(1, 2)  # [B, nhead, Q_len, d_k]\n",
    "        K = K.view(B, K_len, self.nhead, self.d_k).transpose(1, 2)  # [B, nhead, K_len, d_k]\n",
    "        V = V.view(B, V_len, self.nhead, self.d_k).transpose(1, 2)  # [B, nhead, V_len, d_k]\n",
    "\n",
    "        # 计算 Scaled Dot-Product Attention\n",
    "        scores = torch.matmul(Q, K.transpose(-2, -1)) / math.sqrt(self.d_k)\n",
    "\n",
    "        # 应用 mask\n",
    "        # 保证 pad 或 decoder 中不可见的 token 不参与 attention\n",
    "        if mask is not None:\n",
    "            if mask.dim() == 2:\n",
    "                mask = mask.unsqueeze(1).unsqueeze(2)   # [B, K_len] -> [B, 1, 1, K_len]\n",
    "            elif mask.dim() == 3:\n",
    "                mask = mask.unsqueeze(1)                # [B, Q_len, K_len] -> [B, 1, Q_len, K_len]\n",
    "            \n",
    "            scores = scores.masked_fill(mask == 0, float('-inf'))   # 将 mask 为 0 的位置填充为负无穷大 ，在 softmax 中变为 0\n",
    "\n",
    "        # 计算注意力权重\n",
    "        attn = torch.softmax(scores, dim=-1)\n",
    "        attn = self.dropout(attn)\n",
    "\n",
    "        # 加权求和\n",
    "        out = torch.matmul(attn, V)  # [B, nhead, Q_len, d_k]\n",
    "\n",
    "        # 合并多头\n",
    "        out = out.transpose(1, 2).contiguous().view(B, Q_len, self.d_model)\n",
    "\n",
    "        # 输出\n",
    "        # 原始维度[batch_size, Q_len, d_model]\n",
    "        out = self.fc_out(out)\n",
    "        return out"
   ]
  },
  {
   "cell_type": "code",
   "execution_count": 19,
   "metadata": {},
   "outputs": [],
   "source": [
    "class PositionwiseFeedForward(nn.Module):\n",
    "    def __init__(self, d_model, dim_feedforward, dropout=0.1):\n",
    "        super(PositionwiseFeedForward, self).__init__()\n",
    "        self.fc1 = nn.Linear(d_model, dim_feedforward)\n",
    "        self.fc2 = nn.Linear(dim_feedforward, d_model)\n",
    "        self.dropout = nn.Dropout(dropout)\n",
    "\n",
    "    def forward(self, x):\n",
    "        x = self.fc1(x) # 增加网络宽度以捕获更复杂的特征模式\n",
    "        x = F.relu(x)\n",
    "        x = self.dropout(x)\n",
    "        x = self.fc2(x)\n",
    "        return x"
   ]
  },
  {
   "cell_type": "code",
   "execution_count": 20,
   "metadata": {},
   "outputs": [],
   "source": [
    "class TransformerEncoderLayer(nn.Module):\n",
    "    def __init__(self, d_model, nhead, dim_feedforward=2048, dropout=0.1):\n",
    "        super(TransformerEncoderLayer, self).__init__()\n",
    "        self.self_attn = MultiHeadAttention(d_model, nhead, dropout=dropout)\n",
    "        self.linear1 = PositionwiseFeedForward(d_model, dim_feedforward, dropout=dropout)\n",
    "\n",
    "        self.norm1 = nn.LayerNorm(d_model)\n",
    "        self.norm2 = nn.LayerNorm(d_model)\n",
    "        self.dropout = nn.Dropout(dropout)\n",
    "\n",
    "    def forward(self, src, src_mask=None):\n",
    "        # 注意力机制\n",
    "        attn_out = self.self_attn(src, src, src, mask=src_mask)\n",
    "        out1 = self.norm1(src + self.dropout(attn_out))\n",
    "        \n",
    "        # 前馈网络\n",
    "        out2 = self.linear1(out1)\n",
    "        out = self.norm2(out1 + self.dropout(out2)) # 残差连接\n",
    "        \n",
    "        return out"
   ]
  },
  {
   "cell_type": "code",
   "execution_count": 21,
   "metadata": {},
   "outputs": [],
   "source": [
    "class Encoder(nn.Module):\n",
    "    def __init__(self, vocab_size, d_model, nhead, num_layers, dim_feedforward, dropout=0.1, max_len=512):\n",
    "        super(Encoder, self).__init__()\n",
    "        self.embed_tokens = nn.Embedding(vocab_size, d_model)\n",
    "        self.pos_emb = PositionalEncoding(d_model, max_len)\n",
    "        self.layers = nn.ModuleList([\n",
    "            TransformerEncoderLayer(d_model, nhead, dim_feedforward, dropout)\n",
    "            for _ in range(num_layers)\n",
    "        ])\n",
    "        self.dropout = nn.Dropout(dropout)\n",
    "\n",
    "    def forward(self, src, src_mask=None):\n",
    "        # src: [batch_size, src_len]\n",
    "\n",
    "        x = self.embed_tokens(src)  # [batch_size, src_len, d_model]\n",
    "        x = self.pos_emb(x) # 位置编码层，为嵌入向量引入位置信息\n",
    "        x = self.dropout(x)\n",
    "\n",
    "        # encoder 层\n",
    "        for layer in self.layers:\n",
    "            x = layer(x, src_mask=src_mask)\n",
    "        return x"
   ]
  },
  {
   "cell_type": "markdown",
   "metadata": {},
   "source": [
    "### 交叉注意力"
   ]
  },
  {
   "cell_type": "code",
   "execution_count": 22,
   "metadata": {},
   "outputs": [],
   "source": [
    "class CrossModalAttention(nn.Module):\n",
    "    def __init__(self, d_model, nhead, dropout=0.1):\n",
    "        super(CrossModalAttention, self).__init__()\n",
    "\n",
    "        self.mha = MultiHeadAttention(d_model, nhead, dropout=dropout)\n",
    "  \n",
    "        self.norm = nn.LayerNorm(d_model)\n",
    "        self.dropout = nn.Dropout(dropout)\n",
    "\n",
    "    def forward(self, img_feats, txt_feats, mask=None):\n",
    "        # 图像特征做 query，文本特征做 key/value\n",
    "        out = self.mha(query=img_feats, key=txt_feats, value=txt_feats, mask=mask)\n",
    "\n",
    "        # 残差 + LayerNorm\n",
    "        out = self.norm(img_feats + self.dropout(out))\n",
    "        return out"
   ]
  },
  {
   "cell_type": "code",
   "execution_count": 23,
   "metadata": {},
   "outputs": [],
   "source": [
    "class DualCrossModalAttention(nn.Module):\n",
    "    def __init__(self, MultiHeadAttnClass=None, d_model=512, nhead=8, dropout=0.1):\n",
    "        super(DualCrossModalAttention, self).__init__()\n",
    "        \n",
    "        # 图像 -> 查询文本\n",
    "        self.cross_attn_img2txt = MultiHeadAttnClass(d_model, nhead, dropout=dropout)\n",
    "        # 文本 -> 查询图像\n",
    "        self.cross_attn_txt2img = MultiHeadAttnClass(d_model, nhead, dropout=dropout)\n",
    "        \n",
    "        # 层归一化\n",
    "        self.norm_img = nn.LayerNorm(d_model)\n",
    "        self.norm_txt = nn.LayerNorm(d_model)\n",
    "        self.dropout = nn.Dropout(dropout)\n",
    "\n",
    "    def forward(self, img_feats, txt_feats, mask_txt=None):\n",
    "        img2txt_out = self.cross_attn_img2txt(query=img_feats, key=txt_feats, value=txt_feats, mask=mask_txt)\n",
    "        out_img = self.norm_img(img_feats + self.dropout(img2txt_out))\n",
    "\n",
    "        txt2img_out = self.cross_attn_txt2img(query=txt_feats, key=out_img, value=out_img,)\n",
    "        out_txt = self.norm_txt(txt_feats + self.dropout(txt2img_out))\n",
    "\n",
    "        return out_img, out_txt"
   ]
  },
  {
   "cell_type": "markdown",
   "metadata": {},
   "source": [
    "### 多模态模型"
   ]
  },
  {
   "cell_type": "code",
   "execution_count": 24,
   "metadata": {},
   "outputs": [],
   "source": [
    "class MultiModalModel_self(nn.Module):\n",
    "    def __init__(self,\n",
    "                 image_model: nn.Module,\n",
    "                 text_model: nn.Module,\n",
    "                 d_model=512,\n",
    "                 nhead=8,\n",
    "                 dropout=0.1,\n",
    "                 num_classes=3):\n",
    "        super(MultiModalModel_self, self).__init__()\n",
    "\n",
    "        self.image_model = image_model     \n",
    "        self.text_model = text_model      \n",
    "        self.cross_attn = CrossModalAttention(d_model, nhead, dropout)\n",
    "        self.dual_cross_attn = DualCrossModalAttention(MultiHeadAttnClass=MultiHeadAttention, d_model=d_model, nhead=nhead, dropout=dropout)\n",
    "        self.fc = nn.Linear(d_model, num_classes)\n",
    "        self.classifier = nn.Linear(d_model*2, num_classes)\n",
    "\n",
    "    def forward(self, images, text_ids, mask):\n",
    "        # 图像特征 => [B, 1, d_model]\n",
    "        img_feats = self.image_model(images)\n",
    "        if img_feats.dim() == 2:\n",
    "            img_feats = img_feats.unsqueeze(1)\n",
    "    \n",
    "        # 文本特征 => [B, txt_len, d_model]\n",
    "        txt_feats = self.text_model(text_ids, src_mask=mask)\n",
    "    \n",
    "        #### 特征拼接 ####\n",
    "\n",
    "        # # 1)直接拼接\n",
    "        # fused_feats = torch.cat([img_feats, txt_feats], dim=1)  # [B, 1 + txt_len, d_model]\n",
    "        # fused_feats = fused_feats.mean(dim=1)  # 平均池化\n",
    "        # logits = self.fc(fused_feats)\n",
    "\n",
    "\n",
    "        # # 2)交叉注意力拼接\n",
    "        # fused_img_feats = self.cross_attn(img_feats, txt_feats, mask)  # [B, 1, d_model]\n",
    "        # fused_img_feats = fused_img_feats.squeeze(1)\n",
    "        # logits = self.fc(fused_img_feats)\n",
    "\n",
    "        # 3)双向交叉注意力拼接\n",
    "        # out_img => [B, img_len, d_model]\n",
    "        # out_txt => [B, txt_len, d_model]\n",
    "        out_img, out_txt = self.dual_cross_attn(img_feats, txt_feats, mask_txt=mask)\n",
    "\n",
    "        fused_img = out_img.mean(dim=1)\n",
    "        fused_txt = out_txt.mean(dim=1) \n",
    "\n",
    "        fused = torch.cat([fused_img, fused_txt], dim=-1)  \n",
    "        logits = self.classifier(fused)       \n",
    "        \n",
    "        return logits"
   ]
  },
  {
   "cell_type": "markdown",
   "metadata": {},
   "source": [
    "## 预训练模型"
   ]
  },
  {
   "cell_type": "markdown",
   "metadata": {},
   "source": [
    "### 图片处理"
   ]
  },
  {
   "cell_type": "code",
   "execution_count": 25,
   "metadata": {},
   "outputs": [],
   "source": [
    "class PretrainedViTExtractor(nn.Module):\n",
    "    def __init__(self, feature_dim=512, pretrained_path='./vit_model'):\n",
    "        super().__init__()\n",
    "        self.vit = ViTModel.from_pretrained(pretrained_path)\n",
    "        self.fc = nn.Linear(768, feature_dim) \n",
    "\n",
    "    def forward(self, pixel_values):\n",
    "        outputs = self.vit(pixel_values=pixel_values)\n",
    "        pooled = outputs.pooler_output\n",
    "        feats = self.fc(pooled)\n",
    "        return feats"
   ]
  },
  {
   "cell_type": "markdown",
   "metadata": {},
   "source": [
    "### 文本处理"
   ]
  },
  {
   "cell_type": "code",
   "execution_count": 51,
   "metadata": {},
   "outputs": [],
   "source": [
    "class BertTextEncoder(nn.Module):\n",
    "    def __init__(self, feature_dim=768, freeze_bert=False, pretrained_model_path='./bert_model1/'):\n",
    "        super(BertTextEncoder, self).__init__()\n",
    "\n",
    "        self.bert = BertModel.from_pretrained(pretrained_model_path)\n",
    "        \n",
    "        # # 对部分层 freeze\n",
    "        # if freeze_bert:\n",
    "        #     for name, param in self.bert.named_parameters():\n",
    "        #         # if  \"encoder.layer.11.\" not in name:\n",
    "        #         param.requires_grad = False\n",
    "        \n",
    "        self.proj = nn.Linear(768, feature_dim)\n",
    "\n",
    "    def forward(self, input_ids, attention_mask=None, token_type_ids=None):\n",
    "        outputs = self.bert(\n",
    "            input_ids=input_ids, \n",
    "            attention_mask=attention_mask,\n",
    "            token_type_ids=token_type_ids\n",
    "        )\n",
    "        \n",
    "        last_hidden_state = outputs.last_hidden_state       # [B, seq_len, 768]\n",
    "        last_hidden_state = self.proj(last_hidden_state)    # [B, seq_len, feature_dim]\n",
    "\n",
    "        return last_hidden_state"
   ]
  },
  {
   "cell_type": "markdown",
   "metadata": {},
   "source": [
    "### 多模态模型"
   ]
  },
  {
   "cell_type": "code",
   "execution_count": 27,
   "metadata": {},
   "outputs": [],
   "source": [
    "class MultiModalModel_pretrain(nn.Module):\n",
    "    def __init__(self, image_model, text_model, d_model=512,nhead = 8, dropout=0.1, num_classes=3):\n",
    "        super(MultiModalModel_pretrain, self).__init__()\n",
    "        self.image_model = image_model\n",
    "        self.text_model = text_model\n",
    "\n",
    "        self.cross_attn = CrossModalAttention(d_model, nhead, dropout)\n",
    "        self.dual_cross_attn = DualCrossModalAttention(MultiHeadAttnClass=MultiHeadAttention, d_model=d_model, nhead=nhead, dropout=dropout)\n",
    "\n",
    "        self.classifier = nn.Linear(d_model*2, num_classes)\n",
    "\n",
    "        self.fusion = nn.Linear(2*d_model, d_model)\n",
    "        self.classifier2 = nn.Linear(d_model, num_classes)\n",
    "\n",
    "        self.fc = nn.Linear(d_model, num_classes)\n",
    "\n",
    "    def forward(self, images, input_ids, mask_txt=None):\n",
    "        # 图像特征 => [B, img_len, d_model]\n",
    "        img_feats = self.image_model(images)\n",
    "        img_feats = img_feats.unsqueeze(1)\n",
    "\n",
    "        # 文本特征 => [B, txt_len, d_model]\n",
    "        txt_feats = self.text_model(input_ids)\n",
    "\n",
    "        # # 直接拼接\n",
    "        # fused_feats = torch.cat([img_feats, txt_feats], dim=1)  # [B, 1 + txt_len, d_model]\n",
    "        # fused_feats = fused_feats.mean(dim=1)  # 平均池化\n",
    "        # logits = self.fc(fused_feats)\n",
    "\n",
    "        # # 交叉注意力\n",
    "        # fused_img_feats = self.cross_attn(img_feats, txt_feats, mask_txt)\n",
    "        # fused_img_feats = fused_img_feats.squeeze(1)\n",
    "        # logits = self.fc(fused_img_feats)\n",
    "\n",
    "\n",
    "        # 双向 Cross-Attention\n",
    "        # print(\"img_feats.shape =\", img_feats.shape)\n",
    "        # print(\"txt_feats.shape =\", txt_feats.shape)\n",
    "\n",
    "        out_img, out_txt = self.dual_cross_attn(img_feats, txt_feats, mask_txt=mask_txt)\n",
    "        fused_img = out_img[:,0,:] \n",
    "        fused_txt = out_txt[:,0,:]\n",
    "\n",
    "        fused = torch.cat([fused_img, fused_txt], dim=-1) \n",
    "        logits = self.classifier(fused)                 \n",
    "        \n",
    "        return logits"
   ]
  },
  {
   "cell_type": "markdown",
   "metadata": {},
   "source": [
    "## 训练过程"
   ]
  },
  {
   "cell_type": "code",
   "execution_count": 28,
   "metadata": {},
   "outputs": [],
   "source": [
    "device = torch.device('cuda' if torch.cuda.is_available() else 'cpu')\n",
    "\n",
    "model_path = \"./res_best_models\"\n",
    "os.makedirs(model_path, exist_ok=True)\n",
    "graph_path = \"./res_graphs\"\n",
    "os.makedirs(graph_path, exist_ok=True)"
   ]
  },
  {
   "cell_type": "code",
   "execution_count": 29,
   "metadata": {},
   "outputs": [],
   "source": [
    "train_size = int(0.8 * len(dataset))  # 80% 用于训练\n",
    "val_size = len(dataset) - train_size   # 20% 用于验证\n",
    "train_dataset, val_dataset = random_split(dataset, [train_size, val_size], generator=torch.Generator().manual_seed(seed))\n",
    "\n",
    "train_loader = DataLoader(train_dataset, batch_size=16, shuffle=True)\n",
    "val_loader = DataLoader(val_dataset, batch_size=16, shuffle=False)"
   ]
  },
  {
   "cell_type": "code",
   "execution_count": 30,
   "metadata": {},
   "outputs": [],
   "source": [
    "num_epochs = 30\n",
    "batch_size = 64\n",
    "learning_rate = 0.0001\n",
    "patience = 3\n",
    "dropout_prob = 0.3\n",
    "d_model = 512\n",
    "nhead = 8"
   ]
  },
  {
   "cell_type": "code",
   "execution_count": 31,
   "metadata": {},
   "outputs": [
    {
     "name": "stdout",
     "output_type": "stream",
     "text": [
      "词表大小: 30522\n"
     ]
    }
   ],
   "source": [
    "vocab_size = tokenizer.vocab_size  # 从分词器获取词表大小\n",
    "print(f'词表大小: {vocab_size}')"
   ]
  },
  {
   "cell_type": "code",
   "execution_count": 54,
   "metadata": {},
   "outputs": [
    {
     "name": "stderr",
     "output_type": "stream",
     "text": [
      "Some weights of ViTModel were not initialized from the model checkpoint at ./vit_model and are newly initialized: ['vit.pooler.dense.bias', 'vit.pooler.dense.weight']\n",
      "You should probably TRAIN this model on a down-stream task to be able to use it for predictions and inference.\n"
     ]
    },
    {
     "name": "stdout",
     "output_type": "stream",
     "text": [
      "正在训练第 1 折\n",
      "--------------------------------\n"
     ]
    },
    {
     "name": "stderr",
     "output_type": "stream",
     "text": [
      "轮次 1/30: 100%|██████████| 50/50 [00:22<00:00,  2.25it/s]\n"
     ]
    },
    {
     "name": "stdout",
     "output_type": "stream",
     "text": [
      "轮次 1, 训练损失: 0.0627\n"
     ]
    },
    {
     "name": "stderr",
     "output_type": "stream",
     "text": [
      "轮次 1/30: 100%|██████████| 13/13 [00:03<00:00,  4.09it/s]\n"
     ]
    },
    {
     "name": "stdout",
     "output_type": "stream",
     "text": [
      "验证损失: 0.0571, 准确率: 61.25%\n",
      "验证准确率升高，保存当前模型\n"
     ]
    },
    {
     "name": "stderr",
     "output_type": "stream",
     "text": [
      "轮次 2/30: 100%|██████████| 50/50 [00:22<00:00,  2.26it/s]\n"
     ]
    },
    {
     "name": "stdout",
     "output_type": "stream",
     "text": [
      "轮次 2, 训练损失: 0.0341\n"
     ]
    },
    {
     "name": "stderr",
     "output_type": "stream",
     "text": [
      "轮次 2/30: 100%|██████████| 13/13 [00:03<00:00,  4.08it/s]\n"
     ]
    },
    {
     "name": "stdout",
     "output_type": "stream",
     "text": [
      "验证损失: 0.0629, 准确率: 68.75%\n",
      "验证准确率升高，保存当前模型\n"
     ]
    },
    {
     "name": "stderr",
     "output_type": "stream",
     "text": [
      "轮次 3/30: 100%|██████████| 50/50 [00:21<00:00,  2.30it/s]\n"
     ]
    },
    {
     "name": "stdout",
     "output_type": "stream",
     "text": [
      "轮次 3, 训练损失: 0.0141\n"
     ]
    },
    {
     "name": "stderr",
     "output_type": "stream",
     "text": [
      "轮次 3/30: 100%|██████████| 13/13 [00:03<00:00,  3.55it/s]\n"
     ]
    },
    {
     "name": "stdout",
     "output_type": "stream",
     "text": [
      "验证损失: 0.0652, 准确率: 70.5%\n",
      "验证准确率升高，保存当前模型\n"
     ]
    },
    {
     "name": "stderr",
     "output_type": "stream",
     "text": [
      "轮次 4/30: 100%|██████████| 50/50 [00:22<00:00,  2.27it/s]\n"
     ]
    },
    {
     "name": "stdout",
     "output_type": "stream",
     "text": [
      "轮次 4, 训练损失: 0.0068\n"
     ]
    },
    {
     "name": "stderr",
     "output_type": "stream",
     "text": [
      "轮次 4/30: 100%|██████████| 13/13 [00:03<00:00,  4.19it/s]\n"
     ]
    },
    {
     "name": "stdout",
     "output_type": "stream",
     "text": [
      "验证损失: 0.0921, 准确率: 69.12%\n",
      "验证准确率未提升，未提升的 epoch 数：1\n"
     ]
    },
    {
     "name": "stderr",
     "output_type": "stream",
     "text": [
      "轮次 5/30: 100%|██████████| 50/50 [00:21<00:00,  2.34it/s]\n"
     ]
    },
    {
     "name": "stdout",
     "output_type": "stream",
     "text": [
      "轮次 5, 训练损失: 0.004\n"
     ]
    },
    {
     "name": "stderr",
     "output_type": "stream",
     "text": [
      "轮次 5/30: 100%|██████████| 13/13 [00:03<00:00,  4.17it/s]\n"
     ]
    },
    {
     "name": "stdout",
     "output_type": "stream",
     "text": [
      "验证损失: 0.1219, 准确率: 70.5%\n",
      "验证准确率未提升，未提升的 epoch 数：2\n"
     ]
    },
    {
     "name": "stderr",
     "output_type": "stream",
     "text": [
      "轮次 6/30: 100%|██████████| 50/50 [00:21<00:00,  2.36it/s]\n"
     ]
    },
    {
     "name": "stdout",
     "output_type": "stream",
     "text": [
      "轮次 6, 训练损失: 0.0027\n"
     ]
    },
    {
     "name": "stderr",
     "output_type": "stream",
     "text": [
      "轮次 6/30: 100%|██████████| 13/13 [00:03<00:00,  4.27it/s]\n"
     ]
    },
    {
     "name": "stdout",
     "output_type": "stream",
     "text": [
      "验证损失: 0.0954, 准确率: 71.75%\n",
      "验证准确率升高，保存当前模型\n"
     ]
    },
    {
     "name": "stderr",
     "output_type": "stream",
     "text": [
      "轮次 7/30: 100%|██████████| 50/50 [00:22<00:00,  2.23it/s]\n"
     ]
    },
    {
     "name": "stdout",
     "output_type": "stream",
     "text": [
      "轮次 7, 训练损失: 0.0018\n"
     ]
    },
    {
     "name": "stderr",
     "output_type": "stream",
     "text": [
      "轮次 7/30: 100%|██████████| 13/13 [00:03<00:00,  4.16it/s]\n"
     ]
    },
    {
     "name": "stdout",
     "output_type": "stream",
     "text": [
      "验证损失: 0.0967, 准确率: 70.62%\n",
      "验证准确率未提升，未提升的 epoch 数：1\n"
     ]
    },
    {
     "name": "stderr",
     "output_type": "stream",
     "text": [
      "轮次 8/30: 100%|██████████| 50/50 [00:21<00:00,  2.36it/s]\n"
     ]
    },
    {
     "name": "stdout",
     "output_type": "stream",
     "text": [
      "轮次 8, 训练损失: 0.0016\n"
     ]
    },
    {
     "name": "stderr",
     "output_type": "stream",
     "text": [
      "轮次 8/30: 100%|██████████| 13/13 [00:03<00:00,  4.22it/s]\n"
     ]
    },
    {
     "name": "stdout",
     "output_type": "stream",
     "text": [
      "验证损失: 0.0999, 准确率: 69.88%\n",
      "验证准确率未提升，未提升的 epoch 数：2\n"
     ]
    },
    {
     "name": "stderr",
     "output_type": "stream",
     "text": [
      "轮次 9/30: 100%|██████████| 50/50 [00:21<00:00,  2.34it/s]\n"
     ]
    },
    {
     "name": "stdout",
     "output_type": "stream",
     "text": [
      "轮次 9, 训练损失: 0.0014\n"
     ]
    },
    {
     "name": "stderr",
     "output_type": "stream",
     "text": [
      "轮次 9/30: 100%|██████████| 13/13 [00:03<00:00,  4.20it/s]\n"
     ]
    },
    {
     "name": "stdout",
     "output_type": "stream",
     "text": [
      "验证损失: 0.1285, 准确率: 70.12%\n",
      "验证准确率未提升，未提升的 epoch 数：3\n",
      "早停触发\n",
      "由于早停机制，提前结束训练，在第 9 个 epoch 停止。\n"
     ]
    },
    {
     "data": {
      "image/png": "[encoded data removed]",
      "text/plain": [
       "<Figure size 640x480 with 1 Axes>"
      ]
     },
     "metadata": {},
     "output_type": "display_data"
    },
    {
     "name": "stderr",
     "output_type": "stream",
     "text": [
      "Some weights of ViTModel were not initialized from the model checkpoint at ./vit_model and are newly initialized: ['vit.pooler.dense.bias', 'vit.pooler.dense.weight']\n",
      "You should probably TRAIN this model on a down-stream task to be able to use it for predictions and inference.\n"
     ]
    },
    {
     "name": "stdout",
     "output_type": "stream",
     "text": [
      "正在训练第 2 折\n",
      "--------------------------------\n"
     ]
    },
    {
     "name": "stderr",
     "output_type": "stream",
     "text": [
      "轮次 1/30: 100%|██████████| 50/50 [00:21<00:00,  2.35it/s]\n"
     ]
    },
    {
     "name": "stdout",
     "output_type": "stream",
     "text": [
      "轮次 1, 训练损失: 0.062\n"
     ]
    },
    {
     "name": "stderr",
     "output_type": "stream",
     "text": [
      "轮次 1/30: 100%|██████████| 13/13 [00:03<00:00,  4.17it/s]\n"
     ]
    },
    {
     "name": "stdout",
     "output_type": "stream",
     "text": [
      "验证损失: 0.0525, 准确率: 63.5%\n",
      "验证准确率升高，保存当前模型\n"
     ]
    },
    {
     "name": "stderr",
     "output_type": "stream",
     "text": [
      "轮次 2/30: 100%|██████████| 50/50 [00:21<00:00,  2.36it/s]\n"
     ]
    },
    {
     "name": "stdout",
     "output_type": "stream",
     "text": [
      "轮次 2, 训练损失: 0.0343\n"
     ]
    },
    {
     "name": "stderr",
     "output_type": "stream",
     "text": [
      "轮次 2/30: 100%|██████████| 13/13 [00:03<00:00,  4.11it/s]\n"
     ]
    },
    {
     "name": "stdout",
     "output_type": "stream",
     "text": [
      "验证损失: 0.0615, 准确率: 63.62%\n",
      "验证准确率升高，保存当前模型\n"
     ]
    },
    {
     "name": "stderr",
     "output_type": "stream",
     "text": [
      "轮次 3/30: 100%|██████████| 50/50 [00:21<00:00,  2.30it/s]\n"
     ]
    },
    {
     "name": "stdout",
     "output_type": "stream",
     "text": [
      "轮次 3, 训练损失: 0.0165\n"
     ]
    },
    {
     "name": "stderr",
     "output_type": "stream",
     "text": [
      "轮次 3/30: 100%|██████████| 13/13 [00:03<00:00,  4.05it/s]\n"
     ]
    },
    {
     "name": "stdout",
     "output_type": "stream",
     "text": [
      "验证损失: 0.0921, 准确率: 63.5%\n",
      "验证准确率未提升，未提升的 epoch 数：1\n"
     ]
    },
    {
     "name": "stderr",
     "output_type": "stream",
     "text": [
      "轮次 4/30: 100%|██████████| 50/50 [00:21<00:00,  2.35it/s]\n"
     ]
    },
    {
     "name": "stdout",
     "output_type": "stream",
     "text": [
      "轮次 4, 训练损失: 0.0107\n"
     ]
    },
    {
     "name": "stderr",
     "output_type": "stream",
     "text": [
      "轮次 4/30: 100%|██████████| 13/13 [00:03<00:00,  4.27it/s]\n"
     ]
    },
    {
     "name": "stdout",
     "output_type": "stream",
     "text": [
      "验证损失: 0.1046, 准确率: 63.38%\n",
      "验证准确率未提升，未提升的 epoch 数：2\n"
     ]
    },
    {
     "name": "stderr",
     "output_type": "stream",
     "text": [
      "轮次 5/30: 100%|██████████| 50/50 [00:21<00:00,  2.36it/s]\n"
     ]
    },
    {
     "name": "stdout",
     "output_type": "stream",
     "text": [
      "轮次 5, 训练损失: 0.0048\n"
     ]
    },
    {
     "name": "stderr",
     "output_type": "stream",
     "text": [
      "轮次 5/30: 100%|██████████| 13/13 [00:03<00:00,  4.12it/s]\n"
     ]
    },
    {
     "name": "stdout",
     "output_type": "stream",
     "text": [
      "验证损失: 0.1217, 准确率: 62.5%\n",
      "验证准确率未提升，未提升的 epoch 数：3\n",
      "早停触发\n",
      "由于早停机制，提前结束训练，在第 5 个 epoch 停止。\n"
     ]
    },
    {
     "data": {
      "image/png": "[encoded data removed]",
      "text/plain": [
       "<Figure size 640x480 with 1 Axes>"
      ]
     },
     "metadata": {},
     "output_type": "display_data"
    },
    {
     "name": "stderr",
     "output_type": "stream",
     "text": [
      "Some weights of ViTModel were not initialized from the model checkpoint at ./vit_model and are newly initialized: ['vit.pooler.dense.bias', 'vit.pooler.dense.weight']\n",
      "You should probably TRAIN this model on a down-stream task to be able to use it for predictions and inference.\n"
     ]
    },
    {
     "name": "stdout",
     "output_type": "stream",
     "text": [
      "正在训练第 3 折\n",
      "--------------------------------\n"
     ]
    },
    {
     "name": "stderr",
     "output_type": "stream",
     "text": [
      "轮次 1/30: 100%|██████████| 50/50 [00:21<00:00,  2.36it/s]\n"
     ]
    },
    {
     "name": "stdout",
     "output_type": "stream",
     "text": [
      "轮次 1, 训练损失: 0.061\n"
     ]
    },
    {
     "name": "stderr",
     "output_type": "stream",
     "text": [
      "轮次 1/30: 100%|██████████| 13/13 [00:03<00:00,  4.13it/s]\n"
     ]
    },
    {
     "name": "stdout",
     "output_type": "stream",
     "text": [
      "验证损失: 0.0492, 准确率: 67.62%\n",
      "验证准确率升高，保存当前模型\n"
     ]
    },
    {
     "name": "stderr",
     "output_type": "stream",
     "text": [
      "轮次 2/30: 100%|██████████| 50/50 [00:21<00:00,  2.32it/s]\n"
     ]
    },
    {
     "name": "stdout",
     "output_type": "stream",
     "text": [
      "轮次 2, 训练损失: 0.0399\n"
     ]
    },
    {
     "name": "stderr",
     "output_type": "stream",
     "text": [
      "轮次 2/30: 100%|██████████| 13/13 [00:02<00:00,  4.36it/s]\n"
     ]
    },
    {
     "name": "stdout",
     "output_type": "stream",
     "text": [
      "验证损失: 0.0484, 准确率: 68.25%\n",
      "验证准确率升高，保存当前模型\n"
     ]
    },
    {
     "name": "stderr",
     "output_type": "stream",
     "text": [
      "轮次 3/30: 100%|██████████| 50/50 [00:21<00:00,  2.38it/s]\n"
     ]
    },
    {
     "name": "stdout",
     "output_type": "stream",
     "text": [
      "轮次 3, 训练损失: 0.0229\n"
     ]
    },
    {
     "name": "stderr",
     "output_type": "stream",
     "text": [
      "轮次 3/30: 100%|██████████| 13/13 [00:03<00:00,  4.20it/s]\n"
     ]
    },
    {
     "name": "stdout",
     "output_type": "stream",
     "text": [
      "验证损失: 0.0572, 准确率: 68.12%\n",
      "验证准确率未提升，未提升的 epoch 数：1\n"
     ]
    },
    {
     "name": "stderr",
     "output_type": "stream",
     "text": [
      "轮次 4/30: 100%|██████████| 50/50 [00:21<00:00,  2.35it/s]\n"
     ]
    },
    {
     "name": "stdout",
     "output_type": "stream",
     "text": [
      "轮次 4, 训练损失: 0.0087\n"
     ]
    },
    {
     "name": "stderr",
     "output_type": "stream",
     "text": [
      "轮次 4/30: 100%|██████████| 13/13 [00:03<00:00,  4.26it/s]\n"
     ]
    },
    {
     "name": "stdout",
     "output_type": "stream",
     "text": [
      "验证损失: 0.0865, 准确率: 70.0%\n",
      "验证准确率升高，保存当前模型\n"
     ]
    },
    {
     "name": "stderr",
     "output_type": "stream",
     "text": [
      "轮次 5/30: 100%|██████████| 50/50 [00:21<00:00,  2.36it/s]\n"
     ]
    },
    {
     "name": "stdout",
     "output_type": "stream",
     "text": [
      "轮次 5, 训练损失: 0.0058\n"
     ]
    },
    {
     "name": "stderr",
     "output_type": "stream",
     "text": [
      "轮次 5/30: 100%|██████████| 13/13 [00:03<00:00,  4.32it/s]\n"
     ]
    },
    {
     "name": "stdout",
     "output_type": "stream",
     "text": [
      "验证损失: 0.0951, 准确率: 69.62%\n",
      "验证准确率未提升，未提升的 epoch 数：1\n"
     ]
    },
    {
     "name": "stderr",
     "output_type": "stream",
     "text": [
      "轮次 6/30: 100%|██████████| 50/50 [00:21<00:00,  2.37it/s]\n"
     ]
    },
    {
     "name": "stdout",
     "output_type": "stream",
     "text": [
      "轮次 6, 训练损失: 0.0042\n"
     ]
    },
    {
     "name": "stderr",
     "output_type": "stream",
     "text": [
      "轮次 6/30: 100%|██████████| 13/13 [00:03<00:00,  4.25it/s]\n"
     ]
    },
    {
     "name": "stdout",
     "output_type": "stream",
     "text": [
      "验证损失: 0.1008, 准确率: 69.12%\n",
      "验证准确率未提升，未提升的 epoch 数：2\n"
     ]
    },
    {
     "name": "stderr",
     "output_type": "stream",
     "text": [
      "轮次 7/30: 100%|██████████| 50/50 [00:21<00:00,  2.36it/s]\n"
     ]
    },
    {
     "name": "stdout",
     "output_type": "stream",
     "text": [
      "轮次 7, 训练损失: 0.0033\n"
     ]
    },
    {
     "name": "stderr",
     "output_type": "stream",
     "text": [
      "轮次 7/30: 100%|██████████| 13/13 [00:03<00:00,  4.29it/s]\n"
     ]
    },
    {
     "name": "stdout",
     "output_type": "stream",
     "text": [
      "验证损失: 0.1397, 准确率: 67.12%\n",
      "验证准确率未提升，未提升的 epoch 数：3\n",
      "早停触发\n",
      "由于早停机制，提前结束训练，在第 7 个 epoch 停止。\n"
     ]
    },
    {
     "data": {
      "image/png": "[encoded data removed]",
      "text/plain": [
       "<Figure size 640x480 with 1 Axes>"
      ]
     },
     "metadata": {},
     "output_type": "display_data"
    },
    {
     "name": "stderr",
     "output_type": "stream",
     "text": [
      "Some weights of ViTModel were not initialized from the model checkpoint at ./vit_model and are newly initialized: ['vit.pooler.dense.bias', 'vit.pooler.dense.weight']\n",
      "You should probably TRAIN this model on a down-stream task to be able to use it for predictions and inference.\n"
     ]
    },
    {
     "name": "stdout",
     "output_type": "stream",
     "text": [
      "正在训练第 4 折\n",
      "--------------------------------\n"
     ]
    },
    {
     "name": "stderr",
     "output_type": "stream",
     "text": [
      "轮次 1/30: 100%|██████████| 50/50 [00:21<00:00,  2.37it/s]\n"
     ]
    },
    {
     "name": "stdout",
     "output_type": "stream",
     "text": [
      "轮次 1, 训练损失: 0.0594\n"
     ]
    },
    {
     "name": "stderr",
     "output_type": "stream",
     "text": [
      "轮次 1/30: 100%|██████████| 13/13 [00:03<00:00,  4.24it/s]\n"
     ]
    },
    {
     "name": "stdout",
     "output_type": "stream",
     "text": [
      "验证损失: 0.0494, 准确率: 66.5%\n",
      "验证准确率升高，保存当前模型\n"
     ]
    },
    {
     "name": "stderr",
     "output_type": "stream",
     "text": [
      "轮次 2/30: 100%|██████████| 50/50 [00:21<00:00,  2.34it/s]\n"
     ]
    },
    {
     "name": "stdout",
     "output_type": "stream",
     "text": [
      "轮次 2, 训练损失: 0.0374\n"
     ]
    },
    {
     "name": "stderr",
     "output_type": "stream",
     "text": [
      "轮次 2/30: 100%|██████████| 13/13 [00:03<00:00,  4.12it/s]\n"
     ]
    },
    {
     "name": "stdout",
     "output_type": "stream",
     "text": [
      "验证损失: 0.0688, 准确率: 56.62%\n",
      "验证准确率未提升，未提升的 epoch 数：1\n"
     ]
    },
    {
     "name": "stderr",
     "output_type": "stream",
     "text": [
      "轮次 3/30: 100%|██████████| 50/50 [00:21<00:00,  2.36it/s]\n"
     ]
    },
    {
     "name": "stdout",
     "output_type": "stream",
     "text": [
      "轮次 3, 训练损失: 0.0197\n"
     ]
    },
    {
     "name": "stderr",
     "output_type": "stream",
     "text": [
      "轮次 3/30: 100%|██████████| 13/13 [00:03<00:00,  3.48it/s]\n"
     ]
    },
    {
     "name": "stdout",
     "output_type": "stream",
     "text": [
      "验证损失: 0.0947, 准确率: 63.5%\n",
      "验证准确率未提升，未提升的 epoch 数：2\n"
     ]
    },
    {
     "name": "stderr",
     "output_type": "stream",
     "text": [
      "轮次 4/30: 100%|██████████| 50/50 [00:22<00:00,  2.27it/s]\n"
     ]
    },
    {
     "name": "stdout",
     "output_type": "stream",
     "text": [
      "轮次 4, 训练损失: 0.0086\n"
     ]
    },
    {
     "name": "stderr",
     "output_type": "stream",
     "text": [
      "轮次 4/30: 100%|██████████| 13/13 [00:03<00:00,  4.16it/s]\n"
     ]
    },
    {
     "name": "stdout",
     "output_type": "stream",
     "text": [
      "验证损失: 0.1088, 准确率: 64.38%\n",
      "验证准确率未提升，未提升的 epoch 数：3\n",
      "早停触发\n",
      "由于早停机制，提前结束训练，在第 4 个 epoch 停止。\n"
     ]
    },
    {
     "data": {
      "image/png": "[encoded data removed]",
      "text/plain": [
       "<Figure size 640x480 with 1 Axes>"
      ]
     },
     "metadata": {},
     "output_type": "display_data"
    },
    {
     "name": "stderr",
     "output_type": "stream",
     "text": [
      "Some weights of ViTModel were not initialized from the model checkpoint at ./vit_model and are newly initialized: ['vit.pooler.dense.bias', 'vit.pooler.dense.weight']\n",
      "You should probably TRAIN this model on a down-stream task to be able to use it for predictions and inference.\n"
     ]
    },
    {
     "name": "stdout",
     "output_type": "stream",
     "text": [
      "正在训练第 5 折\n",
      "--------------------------------\n"
     ]
    },
    {
     "name": "stderr",
     "output_type": "stream",
     "text": [
      "轮次 1/30: 100%|██████████| 50/50 [00:21<00:00,  2.34it/s]\n"
     ]
    },
    {
     "name": "stdout",
     "output_type": "stream",
     "text": [
      "轮次 1, 训练损失: 0.0634\n"
     ]
    },
    {
     "name": "stderr",
     "output_type": "stream",
     "text": [
      "轮次 1/30: 100%|██████████| 13/13 [00:03<00:00,  4.12it/s]\n"
     ]
    },
    {
     "name": "stdout",
     "output_type": "stream",
     "text": [
      "验证损失: 0.0481, 准确率: 65.5%\n",
      "验证准确率升高，保存当前模型\n"
     ]
    },
    {
     "name": "stderr",
     "output_type": "stream",
     "text": [
      "轮次 2/30: 100%|██████████| 50/50 [00:21<00:00,  2.34it/s]\n"
     ]
    },
    {
     "name": "stdout",
     "output_type": "stream",
     "text": [
      "轮次 2, 训练损失: 0.035\n"
     ]
    },
    {
     "name": "stderr",
     "output_type": "stream",
     "text": [
      "轮次 2/30: 100%|██████████| 13/13 [00:03<00:00,  3.83it/s]\n"
     ]
    },
    {
     "name": "stdout",
     "output_type": "stream",
     "text": [
      "验证损失: 0.0487, 准确率: 70.75%\n",
      "验证准确率升高，保存当前模型\n"
     ]
    },
    {
     "name": "stderr",
     "output_type": "stream",
     "text": [
      "轮次 3/30: 100%|██████████| 50/50 [00:21<00:00,  2.27it/s]\n"
     ]
    },
    {
     "name": "stdout",
     "output_type": "stream",
     "text": [
      "轮次 3, 训练损失: 0.0153\n"
     ]
    },
    {
     "name": "stderr",
     "output_type": "stream",
     "text": [
      "轮次 3/30: 100%|██████████| 13/13 [00:03<00:00,  4.29it/s]\n"
     ]
    },
    {
     "name": "stdout",
     "output_type": "stream",
     "text": [
      "验证损失: 0.0837, 准确率: 69.62%\n",
      "验证准确率未提升，未提升的 epoch 数：1\n"
     ]
    },
    {
     "name": "stderr",
     "output_type": "stream",
     "text": [
      "轮次 4/30: 100%|██████████| 50/50 [00:21<00:00,  2.35it/s]\n"
     ]
    },
    {
     "name": "stdout",
     "output_type": "stream",
     "text": [
      "轮次 4, 训练损失: 0.0087\n"
     ]
    },
    {
     "name": "stderr",
     "output_type": "stream",
     "text": [
      "轮次 4/30: 100%|██████████| 13/13 [00:03<00:00,  4.24it/s]\n"
     ]
    },
    {
     "name": "stdout",
     "output_type": "stream",
     "text": [
      "验证损失: 0.0813, 准确率: 71.12%\n",
      "验证准确率升高，保存当前模型\n"
     ]
    },
    {
     "name": "stderr",
     "output_type": "stream",
     "text": [
      "轮次 5/30: 100%|██████████| 50/50 [00:21<00:00,  2.33it/s]\n"
     ]
    },
    {
     "name": "stdout",
     "output_type": "stream",
     "text": [
      "轮次 5, 训练损失: 0.0059\n"
     ]
    },
    {
     "name": "stderr",
     "output_type": "stream",
     "text": [
      "轮次 5/30: 100%|██████████| 13/13 [00:03<00:00,  4.16it/s]\n"
     ]
    },
    {
     "name": "stdout",
     "output_type": "stream",
     "text": [
      "验证损失: 0.0867, 准确率: 73.12%\n",
      "验证准确率升高，保存当前模型\n"
     ]
    },
    {
     "name": "stderr",
     "output_type": "stream",
     "text": [
      "轮次 6/30: 100%|██████████| 50/50 [00:21<00:00,  2.33it/s]\n"
     ]
    },
    {
     "name": "stdout",
     "output_type": "stream",
     "text": [
      "轮次 6, 训练损失: 0.0033\n"
     ]
    },
    {
     "name": "stderr",
     "output_type": "stream",
     "text": [
      "轮次 6/30: 100%|██████████| 13/13 [00:03<00:00,  4.18it/s]\n"
     ]
    },
    {
     "name": "stdout",
     "output_type": "stream",
     "text": [
      "验证损失: 0.0921, 准确率: 72.5%\n",
      "验证准确率未提升，未提升的 epoch 数：1\n"
     ]
    },
    {
     "name": "stderr",
     "output_type": "stream",
     "text": [
      "轮次 7/30: 100%|██████████| 50/50 [00:21<00:00,  2.32it/s]\n"
     ]
    },
    {
     "name": "stdout",
     "output_type": "stream",
     "text": [
      "轮次 7, 训练损失: 0.0021\n"
     ]
    },
    {
     "name": "stderr",
     "output_type": "stream",
     "text": [
      "轮次 7/30: 100%|██████████| 13/13 [00:03<00:00,  4.09it/s]\n"
     ]
    },
    {
     "name": "stdout",
     "output_type": "stream",
     "text": [
      "验证损失: 0.1294, 准确率: 72.12%\n",
      "验证准确率未提升，未提升的 epoch 数：2\n"
     ]
    },
    {
     "name": "stderr",
     "output_type": "stream",
     "text": [
      "轮次 8/30: 100%|██████████| 50/50 [00:21<00:00,  2.31it/s]\n"
     ]
    },
    {
     "name": "stdout",
     "output_type": "stream",
     "text": [
      "轮次 8, 训练损失: 0.0015\n"
     ]
    },
    {
     "name": "stderr",
     "output_type": "stream",
     "text": [
      "轮次 8/30: 100%|██████████| 13/13 [00:03<00:00,  4.06it/s]\n"
     ]
    },
    {
     "name": "stdout",
     "output_type": "stream",
     "text": [
      "验证损失: 0.119, 准确率: 71.0%\n",
      "验证准确率未提升，未提升的 epoch 数：3\n",
      "早停触发\n",
      "由于早停机制，提前结束训练，在第 8 个 epoch 停止。\n"
     ]
    },
    {
     "data": {
      "image/png": "[encoded data removed]",
      "text/plain": [
       "<Figure size 640x480 with 1 Axes>"
      ]
     },
     "metadata": {},
     "output_type": "display_data"
    }
   ],
   "source": [
    "# resnet_feature_extractor = ResNet(\n",
    "#     block=ResNetBlock, \n",
    "#     layers=[2, 2, 2, 2], \n",
    "#     feature_dim=512, \n",
    "#     dropout_prob= dropout_prob\n",
    "# )\n",
    "\n",
    "# # 2. 定义文本模型\n",
    "# text_feature_extractor = Encoder(\n",
    "#     vocab_size=vocab_size,     # 根据数据集大小来\n",
    "#     d_model=512, \n",
    "#     nhead=8, \n",
    "#     num_layers=2, \n",
    "#     dim_feedforward=2048, \n",
    "#     dropout=dropout_prob, \n",
    "#     max_len=512\n",
    "# )\n",
    "\n",
    "# model = MultiModalModel_self(\n",
    "#     image_model=resnet_feature_extractor,\n",
    "#     text_model=text_feature_extractor,\n",
    "#     d_model=512,\n",
    "#     nhead=8,\n",
    "#     dropout=dropout_prob \n",
    "# ).to(device)\n",
    "\n",
    "\n",
    "\n",
    "k_folds = 5\n",
    "kfold = KFold(n_splits=k_folds, shuffle=True, random_state=seed)\n",
    "\n",
    "results = {}\n",
    "\n",
    "\n",
    "for fold, (train_idx, val_idx) in enumerate(kfold.split(dataset)):\n",
    "    print(f'正在训练第 {fold+1} 折')\n",
    "    print('--------------------------------')\n",
    "\n",
    "    resnet_feature_extractor = PretrainedViTExtractor()\n",
    "    \n",
    "    text_feature_extractor = BertTextEncoder(\n",
    "        feature_dim=512,\n",
    "        freeze_bert=True\n",
    "    )\n",
    "\n",
    "    model = MultiModalModel_pretrain(\n",
    "        image_model=resnet_feature_extractor,\n",
    "        text_model=text_feature_extractor,\n",
    "        d_model=512,\n",
    "        nhead = 8, \n",
    "        dropout=0.3\n",
    "    ).to(device)\n",
    "    optimizer = optim.Adam(model.parameters(), lr=learning_rate)\n",
    "\n",
    "    train_subsampler = SubsetRandomSampler(train_idx)\n",
    "    val_subsampler = SubsetRandomSampler(val_idx)\n",
    "\n",
    "    # 数据加载器，将数据分批加载到模型中\n",
    "    train_loader = DataLoader(dataset, batch_size=batch_size, sampler=train_subsampler)\n",
    "    val_loader = DataLoader(dataset, batch_size=batch_size, sampler=val_subsampler)\n",
    "\n",
    "    train_losses = []\n",
    "    val_losses = []\n",
    "    \n",
    "    # 早停参数\n",
    "    best_val_acc = 0\n",
    "    epochs_no_improve = 0  \n",
    "    early_stop = False  \n",
    "    \n",
    "    \n",
    "    for epoch in range(num_epochs):\n",
    "        # 训练模式\n",
    "        model.train()\n",
    "    \n",
    "        total_train_loss = 0.0\n",
    "    \n",
    "        for batch in tqdm(train_loader, desc=f'轮次 {epoch+1}/{num_epochs}'):\n",
    "            image = batch['image'].to(device)\n",
    "            text = batch['input_ids'].to(device)\n",
    "            attention_mask = batch['attention_mask'].to(device)\n",
    "            labels = batch['label'].long().to(device)\n",
    "    \n",
    "            optimizer.zero_grad()   # 清空梯度\n",
    "    \n",
    "            outputs = model(image, text, attention_mask)\n",
    "            labels_one_hot = F.one_hot(labels, num_classes=3).float()\n",
    "            # loss = criterion(outputs, labels)\n",
    "            loss = sigmoid_focal_loss(\n",
    "                outputs,  # 模型的输出 (logits)，未经过 sigmoid\n",
    "                labels_one_hot,  # 标签 (0 或 1)，与 inputs 的 shape 相同\n",
    "                alpha=0.25,  # 平衡因子\n",
    "                gamma=2.0,  # 调节因子\n",
    "                reduction=\"mean\"  # 'none', 'mean', or 'sum'\n",
    "            )\n",
    "            loss.backward()\n",
    "            torch.nn.utils.clip_grad_norm_(model.parameters(), max_norm=1.0)\n",
    "            optimizer.step()\n",
    "    \n",
    "            total_train_loss += loss.item()\n",
    "    \n",
    "        avg_train_loss = round(total_train_loss / len(train_loader), 4)\n",
    "        train_losses.append(avg_train_loss)\n",
    "        print(f'轮次 {epoch+1}, 训练损失: {avg_train_loss}')\n",
    "    \n",
    "    \n",
    "        # 验证模式\n",
    "        model.eval()\n",
    "        \n",
    "        val_loss = 0.0\n",
    "        correct = 0\n",
    "        total = 0\n",
    "    \n",
    "        with torch.no_grad():   # 不需要更新参数，禁用梯度计算\n",
    "            for batch in tqdm(val_loader, desc=f'轮次 {epoch+1}/{num_epochs}'):\n",
    "                image = batch['image'].to(device)\n",
    "                text = batch['input_ids'].to(device)\n",
    "                attention_mask = batch['attention_mask'].to(device)\n",
    "                labels = batch['label'].long().to(device)\n",
    "            \n",
    "                outputs = model(image,text, attention_mask)\n",
    "                labels_one_hot = F.one_hot(labels, num_classes=3).float()\n",
    "                # loss = criterion(outputs, labels)\n",
    "                loss = sigmoid_focal_loss(\n",
    "                    outputs,  # 模型的输出 (logits)，未经过 sigmoid\n",
    "                    labels_one_hot,  # 标签 (0 或 1)，与 inputs 的 shape 相同\n",
    "                    alpha=0.25,  # 平衡因子\n",
    "                    gamma=2.0,  # 调节因子\n",
    "                    reduction=\"mean\"  # 'none', 'mean', or 'sum'\n",
    "                )\n",
    "                val_loss += loss.item()\n",
    "    \n",
    "                _, predicted = torch.max(outputs.data, 1)   # 提取预测的类别索引\n",
    "                total += labels.size(0)\n",
    "                correct += (predicted == labels).sum().item()\n",
    "    \n",
    "        avg_val_loss = round(val_loss / len(val_loader), 4)\n",
    "        val_losses.append(avg_val_loss)\n",
    "        val_acc = round(100 * correct / total, 2)\n",
    "        print(f'验证损失: {avg_val_loss}, 准确率: {val_acc}%')\n",
    "    \n",
    "        # 早停机制\n",
    "        if val_acc > best_val_acc:\n",
    "            best_val_acc = val_acc\n",
    "            epochs_no_improve = 0\n",
    "            file_path = os.path.join(model_path, f'best_model_fold_{fold}.pth')\n",
    "            torch.save(model.state_dict(), file_path)\n",
    "            print('验证准确率升高，保存当前模型')\n",
    "        else:\n",
    "            epochs_no_improve += 1\n",
    "            print(f'验证准确率未提升，未提升的 epoch 数：{epochs_no_improve}')\n",
    "    \n",
    "        if epochs_no_improve >= patience:\n",
    "            print('早停触发')\n",
    "            early_stop = True\n",
    "            break\n",
    "    \n",
    "    if early_stop:\n",
    "        print(f'由于早停机制，提前结束训练，在第 {epoch+1} 个 epoch 停止。')\n",
    "    else:\n",
    "        print('训练完成')\n",
    "    \n",
    "    \n",
    "    plt.figure()\n",
    "    plt.plot(range(1, len(train_losses)+1), train_losses, label='train_losses')\n",
    "    plt.plot(range(1, len(val_losses)+1), val_losses, label='validation_losses')\n",
    "    plt.title(f'train and validation losses')\n",
    "    plt.xlabel('Epoch')\n",
    "    plt.ylabel('Loss')\n",
    "    plt.legend()\n",
    "    file_path = os.path.join(graph_path, f'loss_curve.png')\n",
    "    plt.savefig(file_path)  # 保存图像\n",
    "    plt.show()\n"
   ]
  },
  {
   "cell_type": "code",
   "execution_count": 75,
   "metadata": {},
   "outputs": [
    {
     "name": "stdout",
     "output_type": "stream",
     "text": [
      "2.5.1+cu124\n"
     ]
    }
   ],
   "source": [
    "print(torch.__version__)"
   ]
  },
  {
   "cell_type": "code",
   "execution_count": null,
   "metadata": {},
   "outputs": [],
   "source": [
    "from transformers import BertModel\n",
    "\n",
    "model = BertModel.from_pretrained('./bert_model1/')\n",
    "print(\"BERT model loaded successfully!\")\n"
   ]
  },
  {
   "cell_type": "code",
   "execution_count": null,
   "metadata": {},
   "outputs": [],
   "source": [
    "train_size = int(0.8 * len(dataset))  # 80% 用于训练\n",
    "val_size = len(dataset) - train_size   # 20% 用于验证\n",
    "train_dataset, val_dataset = random_split(dataset, [train_size, val_size], generator=torch.Generator().manual_seed(seed))\n",
    "\n",
    "train_loader = DataLoader(train_dataset, batch_size=16, shuffle=True)\n",
    "val_loader = DataLoader(val_dataset, batch_size=16, shuffle=False)"
   ]
  },
  {
   "cell_type": "code",
   "execution_count": 95,
   "metadata": {},
   "outputs": [
    {
     "name": "stderr",
     "output_type": "stream",
     "text": [
      "轮次 1/30: 100%|██████████| 50/50 [00:12<00:00,  3.86it/s]\n"
     ]
    },
    {
     "name": "stdout",
     "output_type": "stream",
     "text": [
      "轮次 1, 训练损失: 0.0648\n"
     ]
    },
    {
     "name": "stderr",
     "output_type": "stream",
     "text": [
      "轮次 1/30: 100%|██████████| 13/13 [00:02<00:00,  5.48it/s]\n"
     ]
    },
    {
     "name": "stdout",
     "output_type": "stream",
     "text": [
      "验证损失: 0.0704, 准确率: 31.62%\n",
      "验证准确率升高，保存当前模型\n"
     ]
    },
    {
     "name": "stderr",
     "output_type": "stream",
     "text": [
      "轮次 2/30: 100%|██████████| 50/50 [00:10<00:00,  4.73it/s]\n"
     ]
    },
    {
     "name": "stdout",
     "output_type": "stream",
     "text": [
      "轮次 2, 训练损失: 0.055\n"
     ]
    },
    {
     "name": "stderr",
     "output_type": "stream",
     "text": [
      "轮次 2/30: 100%|██████████| 13/13 [00:02<00:00,  5.77it/s]\n"
     ]
    },
    {
     "name": "stdout",
     "output_type": "stream",
     "text": [
      "验证损失: 0.0659, 准确率: 38.62%\n",
      "验证准确率升高，保存当前模型\n"
     ]
    },
    {
     "name": "stderr",
     "output_type": "stream",
     "text": [
      "轮次 3/30: 100%|██████████| 50/50 [00:10<00:00,  4.77it/s]\n"
     ]
    },
    {
     "name": "stdout",
     "output_type": "stream",
     "text": [
      "轮次 3, 训练损失: 0.0541\n"
     ]
    },
    {
     "name": "stderr",
     "output_type": "stream",
     "text": [
      "轮次 3/30: 100%|██████████| 13/13 [00:02<00:00,  4.52it/s]\n"
     ]
    },
    {
     "name": "stdout",
     "output_type": "stream",
     "text": [
      "验证损失: 0.075, 准确率: 31.88%\n",
      "验证准确率未提升，未提升的 epoch 数：1\n"
     ]
    },
    {
     "name": "stderr",
     "output_type": "stream",
     "text": [
      "轮次 4/30: 100%|██████████| 50/50 [00:12<00:00,  4.04it/s]\n"
     ]
    },
    {
     "name": "stdout",
     "output_type": "stream",
     "text": [
      "轮次 4, 训练损失: 0.0539\n"
     ]
    },
    {
     "name": "stderr",
     "output_type": "stream",
     "text": [
      "轮次 4/30: 100%|██████████| 13/13 [00:02<00:00,  5.39it/s]\n"
     ]
    },
    {
     "name": "stdout",
     "output_type": "stream",
     "text": [
      "验证损失: 0.0786, 准确率: 37.0%\n",
      "验证准确率未提升，未提升的 epoch 数：2\n"
     ]
    },
    {
     "name": "stderr",
     "output_type": "stream",
     "text": [
      "轮次 5/30: 100%|██████████| 50/50 [00:10<00:00,  4.56it/s]\n"
     ]
    },
    {
     "name": "stdout",
     "output_type": "stream",
     "text": [
      "轮次 5, 训练损失: 0.0535\n"
     ]
    },
    {
     "name": "stderr",
     "output_type": "stream",
     "text": [
      "轮次 5/30: 100%|██████████| 13/13 [00:02<00:00,  5.54it/s]\n"
     ]
    },
    {
     "name": "stdout",
     "output_type": "stream",
     "text": [
      "验证损失: 0.0654, 准确率: 40.75%\n",
      "验证准确率升高，保存当前模型\n"
     ]
    },
    {
     "name": "stderr",
     "output_type": "stream",
     "text": [
      "轮次 6/30: 100%|██████████| 50/50 [00:10<00:00,  4.60it/s]\n"
     ]
    },
    {
     "name": "stdout",
     "output_type": "stream",
     "text": [
      "轮次 6, 训练损失: 0.0527\n"
     ]
    },
    {
     "name": "stderr",
     "output_type": "stream",
     "text": [
      "轮次 6/30: 100%|██████████| 13/13 [00:02<00:00,  5.73it/s]\n"
     ]
    },
    {
     "name": "stdout",
     "output_type": "stream",
     "text": [
      "验证损失: 0.0614, 准确率: 40.38%\n",
      "验证准确率未提升，未提升的 epoch 数：1\n"
     ]
    },
    {
     "name": "stderr",
     "output_type": "stream",
     "text": [
      "轮次 7/30: 100%|██████████| 50/50 [00:11<00:00,  4.40it/s]\n"
     ]
    },
    {
     "name": "stdout",
     "output_type": "stream",
     "text": [
      "轮次 7, 训练损失: 0.0523\n"
     ]
    },
    {
     "name": "stderr",
     "output_type": "stream",
     "text": [
      "轮次 7/30: 100%|██████████| 13/13 [00:02<00:00,  4.73it/s]\n"
     ]
    },
    {
     "name": "stdout",
     "output_type": "stream",
     "text": [
      "验证损失: 0.056, 准确率: 57.38%\n",
      "验证准确率升高，保存当前模型\n"
     ]
    },
    {
     "name": "stderr",
     "output_type": "stream",
     "text": [
      "轮次 8/30: 100%|██████████| 50/50 [00:11<00:00,  4.44it/s]\n"
     ]
    },
    {
     "name": "stdout",
     "output_type": "stream",
     "text": [
      "轮次 8, 训练损失: 0.0517\n"
     ]
    },
    {
     "name": "stderr",
     "output_type": "stream",
     "text": [
      "轮次 8/30: 100%|██████████| 13/13 [00:02<00:00,  4.91it/s]\n"
     ]
    },
    {
     "name": "stdout",
     "output_type": "stream",
     "text": [
      "验证损失: 0.066, 准确率: 36.62%\n",
      "验证准确率未提升，未提升的 epoch 数：1\n"
     ]
    },
    {
     "name": "stderr",
     "output_type": "stream",
     "text": [
      "轮次 9/30: 100%|██████████| 50/50 [00:12<00:00,  3.85it/s]\n"
     ]
    },
    {
     "name": "stdout",
     "output_type": "stream",
     "text": [
      "轮次 9, 训练损失: 0.0509\n"
     ]
    },
    {
     "name": "stderr",
     "output_type": "stream",
     "text": [
      "轮次 9/30: 100%|██████████| 13/13 [00:02<00:00,  5.24it/s]\n"
     ]
    },
    {
     "name": "stdout",
     "output_type": "stream",
     "text": [
      "验证损失: 0.0685, 准确率: 36.12%\n",
      "验证准确率未提升，未提升的 epoch 数：2\n"
     ]
    },
    {
     "name": "stderr",
     "output_type": "stream",
     "text": [
      "轮次 10/30: 100%|██████████| 50/50 [00:12<00:00,  4.08it/s]\n"
     ]
    },
    {
     "name": "stdout",
     "output_type": "stream",
     "text": [
      "轮次 10, 训练损失: 0.0508\n"
     ]
    },
    {
     "name": "stderr",
     "output_type": "stream",
     "text": [
      "轮次 10/30: 100%|██████████| 13/13 [00:02<00:00,  5.48it/s]\n"
     ]
    },
    {
     "name": "stdout",
     "output_type": "stream",
     "text": [
      "验证损失: 0.0606, 准确率: 49.12%\n",
      "验证准确率未提升，未提升的 epoch 数：3\n",
      "早停触发\n",
      "由于早停机制，提前结束训练，在第 10 个 epoch 停止。\n"
     ]
    },
    {
     "name": "stderr",
     "output_type": "stream",
     "text": [
      "轮次 1/30: 100%|██████████| 50/50 [00:10<00:00,  4.66it/s]\n"
     ]
    },
    {
     "name": "stdout",
     "output_type": "stream",
     "text": [
      "轮次 1, 训练损失: 0.0599\n"
     ]
    },
    {
     "name": "stderr",
     "output_type": "stream",
     "text": [
      "轮次 1/30: 100%|██████████| 13/13 [00:02<00:00,  5.53it/s]\n"
     ]
    },
    {
     "name": "stdout",
     "output_type": "stream",
     "text": [
      "验证损失: 0.071, 准确率: 55.75%\n",
      "验证准确率升高，保存当前模型\n"
     ]
    },
    {
     "name": "stderr",
     "output_type": "stream",
     "text": [
      "轮次 2/30: 100%|██████████| 50/50 [00:10<00:00,  4.75it/s]\n"
     ]
    },
    {
     "name": "stdout",
     "output_type": "stream",
     "text": [
      "轮次 2, 训练损失: 0.0554\n"
     ]
    },
    {
     "name": "stderr",
     "output_type": "stream",
     "text": [
      "轮次 2/30: 100%|██████████| 13/13 [00:02<00:00,  5.85it/s]\n"
     ]
    },
    {
     "name": "stdout",
     "output_type": "stream",
     "text": [
      "验证损失: 0.0665, 准确率: 56.38%\n",
      "验证准确率升高，保存当前模型\n"
     ]
    },
    {
     "name": "stderr",
     "output_type": "stream",
     "text": [
      "轮次 3/30: 100%|██████████| 50/50 [00:10<00:00,  4.79it/s]\n"
     ]
    },
    {
     "name": "stdout",
     "output_type": "stream",
     "text": [
      "轮次 3, 训练损失: 0.0546\n"
     ]
    },
    {
     "name": "stderr",
     "output_type": "stream",
     "text": [
      "轮次 3/30: 100%|██████████| 13/13 [00:02<00:00,  5.59it/s]\n"
     ]
    },
    {
     "name": "stdout",
     "output_type": "stream",
     "text": [
      "验证损失: 0.0599, 准确率: 55.12%\n",
      "验证准确率未提升，未提升的 epoch 数：1\n"
     ]
    },
    {
     "name": "stderr",
     "output_type": "stream",
     "text": [
      "轮次 4/30: 100%|██████████| 50/50 [00:10<00:00,  4.69it/s]\n"
     ]
    },
    {
     "name": "stdout",
     "output_type": "stream",
     "text": [
      "轮次 4, 训练损失: 0.0535\n"
     ]
    },
    {
     "name": "stderr",
     "output_type": "stream",
     "text": [
      "轮次 4/30: 100%|██████████| 13/13 [00:02<00:00,  5.44it/s]\n"
     ]
    },
    {
     "name": "stdout",
     "output_type": "stream",
     "text": [
      "验证损失: 0.0738, 准确率: 49.88%\n",
      "验证准确率未提升，未提升的 epoch 数：2\n"
     ]
    },
    {
     "name": "stderr",
     "output_type": "stream",
     "text": [
      "轮次 5/30: 100%|██████████| 50/50 [00:10<00:00,  4.66it/s]\n"
     ]
    },
    {
     "name": "stdout",
     "output_type": "stream",
     "text": [
      "轮次 5, 训练损失: 0.0521\n"
     ]
    },
    {
     "name": "stderr",
     "output_type": "stream",
     "text": [
      "轮次 5/30: 100%|██████████| 13/13 [00:02<00:00,  5.43it/s]\n"
     ]
    },
    {
     "name": "stdout",
     "output_type": "stream",
     "text": [
      "验证损失: 0.0737, 准确率: 48.88%\n",
      "验证准确率未提升，未提升的 epoch 数：3\n",
      "早停触发\n",
      "由于早停机制，提前结束训练，在第 5 个 epoch 停止。\n"
     ]
    },
    {
     "name": "stderr",
     "output_type": "stream",
     "text": [
      "轮次 1/30: 100%|██████████| 50/50 [00:10<00:00,  4.69it/s]\n"
     ]
    },
    {
     "name": "stdout",
     "output_type": "stream",
     "text": [
      "轮次 1, 训练损失: 0.0601\n"
     ]
    },
    {
     "name": "stderr",
     "output_type": "stream",
     "text": [
      "轮次 1/30: 100%|██████████| 13/13 [00:02<00:00,  5.34it/s]\n"
     ]
    },
    {
     "name": "stdout",
     "output_type": "stream",
     "text": [
      "验证损失: 0.0637, 准确率: 45.0%\n",
      "验证准确率升高，保存当前模型\n"
     ]
    },
    {
     "name": "stderr",
     "output_type": "stream",
     "text": [
      "轮次 2/30: 100%|██████████| 50/50 [00:11<00:00,  4.32it/s]\n"
     ]
    },
    {
     "name": "stdout",
     "output_type": "stream",
     "text": [
      "轮次 2, 训练损失: 0.0549\n"
     ]
    },
    {
     "name": "stderr",
     "output_type": "stream",
     "text": [
      "轮次 2/30: 100%|██████████| 13/13 [00:02<00:00,  5.65it/s]\n"
     ]
    },
    {
     "name": "stdout",
     "output_type": "stream",
     "text": [
      "验证损失: 0.0682, 准确率: 53.88%\n",
      "验证准确率升高，保存当前模型\n"
     ]
    },
    {
     "name": "stderr",
     "output_type": "stream",
     "text": [
      "轮次 3/30: 100%|██████████| 50/50 [00:10<00:00,  4.78it/s]\n"
     ]
    },
    {
     "name": "stdout",
     "output_type": "stream",
     "text": [
      "轮次 3, 训练损失: 0.0522\n"
     ]
    },
    {
     "name": "stderr",
     "output_type": "stream",
     "text": [
      "轮次 3/30: 100%|██████████| 13/13 [00:02<00:00,  5.86it/s]\n"
     ]
    },
    {
     "name": "stdout",
     "output_type": "stream",
     "text": [
      "验证损失: 0.0744, 准确率: 57.75%\n",
      "验证准确率升高，保存当前模型\n"
     ]
    },
    {
     "name": "stderr",
     "output_type": "stream",
     "text": [
      "轮次 4/30: 100%|██████████| 50/50 [00:10<00:00,  4.69it/s]\n"
     ]
    },
    {
     "name": "stdout",
     "output_type": "stream",
     "text": [
      "轮次 4, 训练损失: 0.0504\n"
     ]
    },
    {
     "name": "stderr",
     "output_type": "stream",
     "text": [
      "轮次 4/30: 100%|██████████| 13/13 [00:02<00:00,  5.54it/s]\n"
     ]
    },
    {
     "name": "stdout",
     "output_type": "stream",
     "text": [
      "验证损失: 0.0817, 准确率: 56.75%\n",
      "验证准确率未提升，未提升的 epoch 数：1\n"
     ]
    },
    {
     "name": "stderr",
     "output_type": "stream",
     "text": [
      "轮次 5/30: 100%|██████████| 50/50 [00:10<00:00,  4.86it/s]\n"
     ]
    },
    {
     "name": "stdout",
     "output_type": "stream",
     "text": [
      "轮次 5, 训练损失: 0.0479\n"
     ]
    },
    {
     "name": "stderr",
     "output_type": "stream",
     "text": [
      "轮次 5/30: 100%|██████████| 13/13 [00:02<00:00,  5.87it/s]\n"
     ]
    },
    {
     "name": "stdout",
     "output_type": "stream",
     "text": [
      "验证损失: 0.0608, 准确率: 60.88%\n",
      "验证准确率升高，保存当前模型\n"
     ]
    },
    {
     "name": "stderr",
     "output_type": "stream",
     "text": [
      "轮次 6/30: 100%|██████████| 50/50 [00:10<00:00,  4.75it/s]\n"
     ]
    },
    {
     "name": "stdout",
     "output_type": "stream",
     "text": [
      "轮次 6, 训练损失: 0.045\n"
     ]
    },
    {
     "name": "stderr",
     "output_type": "stream",
     "text": [
      "轮次 6/30: 100%|██████████| 13/13 [00:02<00:00,  5.62it/s]\n"
     ]
    },
    {
     "name": "stdout",
     "output_type": "stream",
     "text": [
      "验证损失: 0.0676, 准确率: 60.5%\n",
      "验证准确率未提升，未提升的 epoch 数：1\n"
     ]
    },
    {
     "name": "stderr",
     "output_type": "stream",
     "text": [
      "轮次 7/30: 100%|██████████| 50/50 [00:10<00:00,  4.69it/s]\n"
     ]
    },
    {
     "name": "stdout",
     "output_type": "stream",
     "text": [
      "轮次 7, 训练损失: 0.0425\n"
     ]
    },
    {
     "name": "stderr",
     "output_type": "stream",
     "text": [
      "轮次 7/30: 100%|██████████| 13/13 [00:02<00:00,  5.63it/s]\n"
     ]
    },
    {
     "name": "stdout",
     "output_type": "stream",
     "text": [
      "验证损失: 0.0688, 准确率: 57.38%\n",
      "验证准确率未提升，未提升的 epoch 数：2\n"
     ]
    },
    {
     "name": "stderr",
     "output_type": "stream",
     "text": [
      "轮次 8/30: 100%|██████████| 50/50 [00:10<00:00,  4.55it/s]\n"
     ]
    },
    {
     "name": "stdout",
     "output_type": "stream",
     "text": [
      "轮次 8, 训练损失: 0.0405\n"
     ]
    },
    {
     "name": "stderr",
     "output_type": "stream",
     "text": [
      "轮次 8/30: 100%|██████████| 13/13 [00:03<00:00,  3.92it/s]\n"
     ]
    },
    {
     "name": "stdout",
     "output_type": "stream",
     "text": [
      "验证损失: 0.0674, 准确率: 63.62%\n",
      "验证准确率升高，保存当前模型\n"
     ]
    },
    {
     "name": "stderr",
     "output_type": "stream",
     "text": [
      "轮次 9/30: 100%|██████████| 50/50 [00:11<00:00,  4.47it/s]\n"
     ]
    },
    {
     "name": "stdout",
     "output_type": "stream",
     "text": [
      "轮次 9, 训练损失: 0.0382\n"
     ]
    },
    {
     "name": "stderr",
     "output_type": "stream",
     "text": [
      "轮次 9/30: 100%|██████████| 13/13 [00:02<00:00,  5.93it/s]\n"
     ]
    },
    {
     "name": "stdout",
     "output_type": "stream",
     "text": [
      "验证损失: 0.0718, 准确率: 60.25%\n",
      "验证准确率未提升，未提升的 epoch 数：1\n"
     ]
    },
    {
     "name": "stderr",
     "output_type": "stream",
     "text": [
      "轮次 10/30: 100%|██████████| 50/50 [00:10<00:00,  4.74it/s]\n"
     ]
    },
    {
     "name": "stdout",
     "output_type": "stream",
     "text": [
      "轮次 10, 训练损失: 0.0362\n"
     ]
    },
    {
     "name": "stderr",
     "output_type": "stream",
     "text": [
      "轮次 10/30: 100%|██████████| 13/13 [00:02<00:00,  5.63it/s]\n"
     ]
    },
    {
     "name": "stdout",
     "output_type": "stream",
     "text": [
      "验证损失: 0.0722, 准确率: 63.12%\n",
      "验证准确率未提升，未提升的 epoch 数：2\n"
     ]
    },
    {
     "name": "stderr",
     "output_type": "stream",
     "text": [
      "轮次 11/30: 100%|██████████| 50/50 [00:10<00:00,  4.65it/s]\n"
     ]
    },
    {
     "name": "stdout",
     "output_type": "stream",
     "text": [
      "轮次 11, 训练损失: 0.0349\n"
     ]
    },
    {
     "name": "stderr",
     "output_type": "stream",
     "text": [
      "轮次 11/30: 100%|██████████| 13/13 [00:02<00:00,  5.79it/s]\n"
     ]
    },
    {
     "name": "stdout",
     "output_type": "stream",
     "text": [
      "验证损失: 0.0773, 准确率: 62.5%\n",
      "验证准确率未提升，未提升的 epoch 数：3\n",
      "早停触发\n",
      "由于早停机制，提前结束训练，在第 11 个 epoch 停止。\n"
     ]
    },
    {
     "data": {
      "image/png": "[encoded data removed]",
      "text/plain": [
       "<Figure size 640x480 with 1 Axes>"
      ]
     },
     "metadata": {},
     "output_type": "display_data"
    }
   ],
   "source": [
    "features = [128,256,512]\n",
    "trains = []\n",
    "vals = []\n",
    "for feature in features:\n",
    "    \n",
    "    resnet_feature_extractor = ResNet(\n",
    "        block=ResNetBlock, \n",
    "        layers=[2, 2, 2, 2], \n",
    "        feature_dim=feature, \n",
    "        dropout_prob= 0.3\n",
    "    )\n",
    "    \n",
    "    # 2. 定义文本模型\n",
    "    text_feature_extractor = Encoder(\n",
    "        vocab_size=vocab_size,     # 根据数据集大小来\n",
    "        d_model=feature, \n",
    "        nhead=8, \n",
    "        num_layers=2, \n",
    "        dim_feedforward=1024, \n",
    "        dropout=0.3, \n",
    "        max_len=512\n",
    "    )\n",
    "    \n",
    "    model = MultiModalModel_self(\n",
    "        image_model=resnet_feature_extractor,\n",
    "        text_model=text_feature_extractor,\n",
    "        d_model=feature,\n",
    "        nhead=8,\n",
    "        dropout=0.3\n",
    "    ).to(device)\n",
    "    \n",
    "    optimizer = optim.Adam(model.parameters(), lr=learning_rate)\n",
    "    \n",
    "        \n",
    "    \n",
    "    train_losses = []\n",
    "    val_losses = []\n",
    "    \n",
    "    # 早停参数\n",
    "    best_val_acc = 0\n",
    "    epochs_no_improve = 0  \n",
    "    early_stop = False  \n",
    "    \n",
    "        \n",
    "    for epoch in range(num_epochs):\n",
    "        # 训练模式\n",
    "        model.train()\n",
    "    \n",
    "        total_train_loss = 0.0\n",
    "    \n",
    "        for batch in tqdm(train_loader, desc=f'轮次 {epoch+1}/{num_epochs}'):\n",
    "            image = batch['image'].to(device)\n",
    "            text = batch['input_ids'].to(device)\n",
    "            attention_mask = batch['attention_mask'].to(device)\n",
    "            labels = batch['label'].long().to(device)\n",
    "    \n",
    "            optimizer.zero_grad()   # 清空梯度\n",
    "    \n",
    "            outputs = model(image, text, attention_mask)\n",
    "            labels_one_hot = F.one_hot(labels, num_classes=3).float()\n",
    "            # loss = criterion(outputs, labels)\n",
    "            loss = sigmoid_focal_loss(\n",
    "                outputs,  # 模型的输出 (logits)，未经过 sigmoid\n",
    "                labels_one_hot,  # 标签 (0 或 1)，与 inputs 的 shape 相同\n",
    "                alpha=0.25,  # 平衡因子\n",
    "                gamma=2.0,  # 调节因子\n",
    "                reduction=\"mean\"  # 'none', 'mean', or 'sum'\n",
    "            )\n",
    "            loss.backward()\n",
    "            torch.nn.utils.clip_grad_norm_(model.parameters(), max_norm=1.0)\n",
    "            optimizer.step()\n",
    "    \n",
    "            total_train_loss += loss.item()\n",
    "    \n",
    "        avg_train_loss = round(total_train_loss / len(train_loader), 4)\n",
    "        train_losses.append(avg_train_loss)\n",
    "        print(f'轮次 {epoch+1}, 训练损失: {avg_train_loss}')\n",
    "    \n",
    "    \n",
    "        # 验证模式\n",
    "        model.eval()\n",
    "        \n",
    "        val_loss = 0.0\n",
    "        correct = 0\n",
    "        total = 0\n",
    "    \n",
    "        with torch.no_grad():   # 不需要更新参数，禁用梯度计算\n",
    "            for batch in tqdm(val_loader, desc=f'轮次 {epoch+1}/{num_epochs}'):\n",
    "                image = batch['image'].to(device)\n",
    "                text = batch['input_ids'].to(device)\n",
    "                attention_mask = batch['attention_mask'].to(device)\n",
    "                labels = batch['label'].long().to(device)\n",
    "            \n",
    "                outputs = model(image,text, attention_mask)\n",
    "                labels_one_hot = F.one_hot(labels, num_classes=3).float()\n",
    "                # loss = criterion(outputs, labels)\n",
    "                loss = sigmoid_focal_loss(\n",
    "                    outputs,  # 模型的输出 (logits)，未经过 sigmoid\n",
    "                    labels_one_hot,  # 标签 (0 或 1)，与 inputs 的 shape 相同\n",
    "                    alpha=0.25,  # 平衡因子\n",
    "                    gamma=2.0,  # 调节因子\n",
    "                    reduction=\"mean\"  # 'none', 'mean', or 'sum'\n",
    "                )\n",
    "                val_loss += loss.item()\n",
    "    \n",
    "                _, predicted = torch.max(outputs.data, 1)   # 提取预测的类别索引\n",
    "                total += labels.size(0)\n",
    "                correct += (predicted == labels).sum().item()\n",
    "    \n",
    "        avg_val_loss = round(val_loss / len(val_loader), 4)\n",
    "        val_losses.append(avg_val_loss)\n",
    "        val_acc = round(100 * correct / total, 2)\n",
    "        print(f'验证损失: {avg_val_loss}, 准确率: {val_acc}%')\n",
    "    \n",
    "        # 早停机制\n",
    "        if val_acc > best_val_acc:\n",
    "            best_val_acc = val_acc\n",
    "            epochs_no_improve = 0\n",
    "            file_path = os.path.join(model_path, f'best_model.pth')\n",
    "            torch.save(model.state_dict(), file_path)\n",
    "            print('验证准确率升高，保存当前模型')\n",
    "        else:\n",
    "            epochs_no_improve += 1\n",
    "            print(f'验证准确率未提升，未提升的 epoch 数：{epochs_no_improve}')\n",
    "    \n",
    "        if epochs_no_improve >= patience:\n",
    "            print('早停触发')\n",
    "            early_stop = True\n",
    "            break\n",
    "    trains.append(train_losses)\n",
    "    vals.append(val_losses)\n",
    "            \n",
    "    if early_stop:\n",
    "        print(f'由于早停机制，提前结束训练，在第 {epoch+1} 个 epoch 停止。')\n",
    "    else:\n",
    "        print('训练完成')\n",
    "\n",
    "\n",
    "plt.figure()\n",
    "plt.plot(range(1, len(trains[0])+1), trains[0], label='train_losses_feature_dim_128')\n",
    "plt.plot(range(1, len(vals[0])+1), vals[0], label='validation_losses_feature_dim_128')\n",
    "plt.plot(range(1, len(trains[1])+1), trains[1], label='train_losses_feature_dim_256')\n",
    "plt.plot(range(1, len(vals[1])+1), vals[1], label='validation_losses_feature_dim_256')\n",
    "plt.plot(range(1, len(trains[2])+1), trains[2], label='train_losses_feature_dim_512')\n",
    "plt.plot(range(1, len(vals[2])+1), vals[2], label='validation_losses_feature_dim_512')\n",
    "plt.title(f'train and validation losses')\n",
    "plt.xlabel('Epoch')\n",
    "plt.ylabel('Loss')\n",
    "plt.legend()\n",
    "file_path = os.path.join(graph_path, f'loss_curve.png')\n",
    "plt.savefig(file_path)  # 保存图像\n",
    "plt.show()\n"
   ]
  },
  {
   "cell_type": "code",
   "execution_count": 62,
   "metadata": {},
   "outputs": [
    {
     "name": "stdout",
     "output_type": "stream",
     "text": [
      "  guide                                              image  \\\n",
      "0     8  <PIL.Image.Image image mode=RGB size=599x447 a...   \n",
      "1  1576  <PIL.Image.Image image mode=RGB size=600x424 a...   \n",
      "2  2320  <PIL.Image.Image image mode=RGB size=444x360 a...   \n",
      "3  4912  <PIL.Image.Image image mode=RGB size=600x600 a...   \n",
      "4  3821  <PIL.Image.Image image mode=RGB size=599x399 a...   \n",
      "\n",
      "                                                text   tag  \n",
      "0  Energetic training today with our San Antonio ...  null  \n",
      "1  Let your voice be heard! 18+ #endsuicide #blit...  null  \n",
      "2  RT @Austin_Powers__: Shark Week would be so mu...  null  \n",
      "3           #TheTruthCaster http://t.co/S8jvqpKq5h\\n  null  \n",
      "4  RT @jarpad: Hey #WBSDCC look what we're up to!...  null  \n"
     ]
    }
   ],
   "source": [
    "data_dir = \"Data\"\n",
    "train_file = \"test_without_label.txt\"\n",
    "dataset = load_data(data_dir, train_file)\n",
    "\n",
    "df = pd.DataFrame(dataset)\n",
    "print(df.head())\n",
    "df['tokens'] = df['text'].apply(preprocess_text_for_w2v)\n",
    "\n",
    "mapping = {\n",
    "    'neutral': 1,\n",
    "    'negative': 0,\n",
    "    'positive': 2\n",
    "}\n",
    "\n",
    "df[\"tag_encoded\"] = df[\"tag\"].map(mapping)\n",
    "dataset = SummarizationDataset(df, image_col='image', text_col='tokens', target_col='tag_encoded', transform=transform, tokenizer=tokenizer)"
   ]
  },
  {
   "cell_type": "code",
   "execution_count": null,
   "metadata": {},
   "outputs": [],
   "source": []
  },
  {
   "cell_type": "code",
   "execution_count": null,
   "metadata": {},
   "outputs": [],
   "source": []
  },
  {
   "cell_type": "code",
   "execution_count": 63,
   "metadata": {},
   "outputs": [],
   "source": [
    "dataloader = DataLoader(dataset, batch_size=16, shuffle=False)"
   ]
  },
  {
   "cell_type": "code",
   "execution_count": 64,
   "metadata": {},
   "outputs": [
    {
     "name": "stderr",
     "output_type": "stream",
     "text": [
      "/tmp/ipykernel_1364/917313103.py:2: FutureWarning: You are using `torch.load` with `weights_only=False` (the current default value), which uses the default pickle module implicitly. It is possible to construct malicious pickle data which will execute arbitrary code during unpickling (See https://github.com/pytorch/pytorch/blob/main/SECURITY.md#untrusted-models for more details). In a future release, the default value for `weights_only` will be flipped to `True`. This limits the functions that could be executed during unpickling. Arbitrary objects will no longer be allowed to be loaded via this mode unless they are explicitly allowlisted by the user via `torch.serialization.add_safe_globals`. We recommend you start setting `weights_only=True` for any use case where you don't have full control of the loaded file. Please open an issue on GitHub for any issues related to this experimental feature.\n",
      "  model.load_state_dict(torch.load(file_path))\n"
     ]
    },
    {
     "data": {
      "text/plain": [
       "<All keys matched successfully>"
      ]
     },
     "execution_count": 64,
     "metadata": {},
     "output_type": "execute_result"
    }
   ],
   "source": [
    "file_path = os.path.join(model_path, 'best_model_fold_4.pth')   \n",
    "model.load_state_dict(torch.load(file_path))"
   ]
  },
  {
   "cell_type": "code",
   "execution_count": null,
   "metadata": {},
   "outputs": [],
   "source": [
    "model.eval()\n",
    "\n",
    "model.to(device)\n",
    "\n",
    "# 3. 模型推理\n",
    "all_preds = []\n",
    "\n",
    "with torch.no_grad():   # 不需要更新参数，禁用梯度计算\n",
    "    for batch in tqdm(dataloader, desc=f'轮次 {epoch+1}/{num_epochs}'):\n",
    "        image = batch['image'].to(device)\n",
    "        text = batch['input_ids'].to(device)\n",
    "        attention_mask = batch['attention_mask'].to(device)\n",
    "        labels = batch['label'].long().to(device)\n",
    "    \n",
    "        outputs = model(image,text, attention_mask)\n",
    "        _, predicted = torch.max(outputs.data, 1)   # 提取预测的类别索引\n",
    "        \n",
    "        preds = predicted.cpu().numpy().tolist()\n",
    "        all_preds.extend(preds)\n",
    "\n",
    "id2label = {0: \"negative\", 1: \"neutral\", 2: \"positive\"}  # 举例\n",
    "pred_labels = [id2label[p] for p in all_preds]\n",
    "\n",
    "# 将 DataFrame 中 'tag' 列从 null 改为预测结果\n",
    "df[\"tag\"] = pred_labels  # 与 all_preds 对应\n",
    "df_filtered = df[[\"guide\", \"tag\"]]\n",
    "\n",
    "# 5. 保存到文件(替换 null)\n",
    "out_file = \"test_with_pred.txt\"\n",
    "df_filtered.to_csv(out_file, index=False)\n",
    "\n",
    "print(f\"预测完成，结果已写入 {out_file}\")\n",
    "\n"
   ]
  },
  {
   "cell_type": "code",
   "execution_count": null,
   "metadata": {},
   "outputs": [],
   "source": []
  }
 ],
 "metadata": {
  "kernelspec": {
   "display_name": "Python 3 (ipykernel)",
   "language": "python",
   "name": "python3"
  },
  "language_info": {
   "codemirror_mode": {
    "name": "ipython",
    "version": 3
   },
   "file_extension": ".py",
   "mimetype": "text/x-python",
   "name": "python",
   "nbconvert_exporter": "python",
   "pygments_lexer": "ipython3",
   "version": "3.12.3"
  }
 },
 "nbformat": 4,
 "nbformat_minor": 4
}
